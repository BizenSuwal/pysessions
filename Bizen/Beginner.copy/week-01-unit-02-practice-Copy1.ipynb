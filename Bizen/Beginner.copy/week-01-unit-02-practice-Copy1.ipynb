{
 "cells": [
  {
   "cell_type": "markdown",
   "metadata": {},
   "source": [
    "# Practice\n",
    "---"
   ]
  },
  {
   "cell_type": "markdown",
   "metadata": {},
   "source": [
    "**Question**\n",
    "\n",
    "You have fictional home library with books and magazines.\n",
    "\n",
    "- Create a datastructure to organise you library, It should contain\n",
    "    - name\n",
    "    - category [ e.g. Computer Science, Art, Fiction etc ]\n",
    "    - type [ e.g, Book, Magazine etc ]\n",
    "    - tags \n",
    "\n",
    "*Hint: Use datastructures like, list, tuple, set and dictionary*\n",
    "\n",
    "*Hint: nested datastructures can be used*\n",
    "\n",
    "```python\n",
    "\n",
    "# nested example, something like this\n",
    "my_songs = [{\n",
    "    'artist': 'Adele',\n",
    "    'songs': [\n",
    "        {'title': 'Hello', 'genre': ''},\n",
    "        {}\n",
    "    ]\n",
    "},\n",
    "{\n",
    "    'artist': '',\n",
    "    'songs': [\n",
    "        {}, {}\n",
    "    ]\n",
    "}\n",
    "]\n",
    "```"
   ]
  },
  {
   "cell_type": "code",
   "execution_count": 20,
   "metadata": {
    "collapsed": false
   },
   "outputs": [],
   "source": [
    "Book1 = { \n",
    "    'Name':'Brief history of time.',\n",
    "    'Category':'Science'    ,\n",
    "     'Type':'Book',\n",
    "     'tags':'Stephen Hawking'    \n",
    "    }\n",
    "Book2 = {\n",
    "          'Name':'Buhahaha',\n",
    "          'Category':'Jokes',\n",
    "            'Type':'Magazine',\n",
    "            'Tags':'Bhairab aryal.'\n",
    "        }\n",
    "    \n"
   ]
  },
  {
   "cell_type": "code",
   "execution_count": 21,
   "metadata": {
    "collapsed": false
   },
   "outputs": [
    {
     "data": {
      "text/plain": [
       "{'Category': 'Science',\n",
       " 'Name': 'Brief history of time.',\n",
       " 'Type': 'Book',\n",
       " 'tags': 'Stephen Hawking'}"
      ]
     },
     "execution_count": 21,
     "metadata": {},
     "output_type": "execute_result"
    }
   ],
   "source": [
    "Book1\n"
   ]
  },
  {
   "cell_type": "code",
   "execution_count": 22,
   "metadata": {
    "collapsed": false
   },
   "outputs": [
    {
     "data": {
      "text/plain": [
       "{'Category': 'Jokes',\n",
       " 'Name': 'Buhahaha',\n",
       " 'Tags': 'Bhairab aryal.',\n",
       " 'Type': 'Magazine'}"
      ]
     },
     "execution_count": 22,
     "metadata": {},
     "output_type": "execute_result"
    }
   ],
   "source": [
    "Book2"
   ]
  },
  {
   "cell_type": "code",
   "execution_count": null,
   "metadata": {
    "collapsed": true
   },
   "outputs": [],
   "source": []
  },
  {
   "cell_type": "code",
   "execution_count": 23,
   "metadata": {
    "collapsed": true
   },
   "outputs": [],
   "source": [
    "a = [Book1,Book2]"
   ]
  },
  {
   "cell_type": "code",
   "execution_count": 24,
   "metadata": {
    "collapsed": false
   },
   "outputs": [
    {
     "data": {
      "text/plain": [
       "{'Category': 'Jokes',\n",
       " 'Name': 'Buhahaha',\n",
       " 'Tags': 'Bhairab aryal.',\n",
       " 'Type': 'Magazine'}"
      ]
     },
     "execution_count": 24,
     "metadata": {},
     "output_type": "execute_result"
    }
   ],
   "source": [
    "a[1]"
   ]
  },
  {
   "cell_type": "code",
   "execution_count": 25,
   "metadata": {
    "collapsed": false
   },
   "outputs": [
    {
     "data": {
      "text/plain": [
       "[{'Category': 'Science',\n",
       "  'Name': 'Brief history of time.',\n",
       "  'Type': 'Book',\n",
       "  'tags': 'Stephen Hawking'},\n",
       " {'Category': 'Jokes',\n",
       "  'Name': 'Buhahaha',\n",
       "  'Tags': 'Bhairab aryal.',\n",
       "  'Type': 'Magazine'}]"
      ]
     },
     "execution_count": 25,
     "metadata": {},
     "output_type": "execute_result"
    }
   ],
   "source": [
    "a"
   ]
  }
 ],
 "metadata": {
  "kernelspec": {
   "display_name": "Python [Root]",
   "language": "python",
   "name": "Python [Root]"
  },
  "language_info": {
   "codemirror_mode": {
    "name": "ipython",
    "version": 3
   },
   "file_extension": ".py",
   "mimetype": "text/x-python",
   "name": "python",
   "nbconvert_exporter": "python",
   "pygments_lexer": "ipython3",
   "version": "3.5.2"
  }
 },
 "nbformat": 4,
 "nbformat_minor": 0
}
