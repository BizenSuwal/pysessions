{
 "cells": [
  {
   "cell_type": "markdown",
   "metadata": {},
   "source": [
<<<<<<< HEAD:Python/Beginner/week-01-unit-01-datatypes.ipynb
    "# Session 2\n",
=======
    "# Python Basics\n",
>>>>>>> Upstream/master:Python/Beginner/unit-01-datatypes-reference.ipynb
    "---"
   ]
  },
  {
   "cell_type": "markdown",
   "metadata": {},
   "source": [
    "*Comments are ignored by Python Interpreter *"
   ]
  },
  {
   "cell_type": "code",
   "execution_count": 1,
   "metadata": {
    "collapsed": true
   },
   "outputs": [],
   "source": [
    "# this is comment"
   ]
  },
  {
   "cell_type": "code",
   "execution_count": 2,
   "metadata": {
    "collapsed": true
   },
   "outputs": [],
   "source": [
    "# this is \n",
    "# multipline comment"
   ]
  },
  {
   "cell_type": "code",
   "execution_count": 3,
   "metadata": {
    "collapsed": true
   },
   "outputs": [],
   "source": [
    "# -*- coding: utf-8 -*-"
   ]
  },
  {
   "cell_type": "markdown",
   "metadata": {},
   "source": [
    "# Datatypes\n",
    "---\n",
    "\n",
    "- Integer\n",
    "- Float\n",
    "- Boolean\n",
    "- None ( not exactly a type )\n",
    "- Complex\n",
    "- String\n",
    "- Bytes"
   ]
  },
  {
   "cell_type": "markdown",
   "metadata": {},
   "source": [
    "## Integers\n",
    "---"
   ]
  },
  {
   "cell_type": "code",
<<<<<<< HEAD:Python/Beginner/week-01-unit-01-datatypes.ipynb
   "execution_count": 12,
=======
   "execution_count": 142,
>>>>>>> Upstream/master:Python/Beginner/unit-01-datatypes-reference.ipynb
   "metadata": {
    "collapsed": false
   },
   "outputs": [
    {
     "data": {
      "text/plain": [
       "12"
      ]
     },
<<<<<<< HEAD:Python/Beginner/week-01-unit-01-datatypes.ipynb
     "execution_count": 12,
=======
     "execution_count": 142,
>>>>>>> Upstream/master:Python/Beginner/unit-01-datatypes-reference.ipynb
     "metadata": {},
     "output_type": "execute_result"
    }
   ],
   "source": [
    "12"
   ]
  },
  {
   "cell_type": "code",
<<<<<<< HEAD:Python/Beginner/week-01-unit-01-datatypes.ipynb
   "execution_count": 13,
=======
   "execution_count": 143,
>>>>>>> Upstream/master:Python/Beginner/unit-01-datatypes-reference.ipynb
   "metadata": {
    "collapsed": false
   },
   "outputs": [
    {
     "data": {
      "text/plain": [
       "-72"
      ]
     },
<<<<<<< HEAD:Python/Beginner/week-01-unit-01-datatypes.ipynb
     "execution_count": 13,
=======
     "execution_count": 143,
>>>>>>> Upstream/master:Python/Beginner/unit-01-datatypes-reference.ipynb
     "metadata": {},
     "output_type": "execute_result"
    }
   ],
   "source": [
    "-72"
   ]
  },
  {
   "cell_type": "code",
   "execution_count": 14,
   "metadata": {
    "collapsed": false
   },
   "outputs": [
    {
     "data": {
      "text/plain": [
       "['__abs__',\n",
       " '__add__',\n",
       " '__and__',\n",
       " '__bool__',\n",
       " '__ceil__',\n",
       " '__class__',\n",
       " '__delattr__',\n",
       " '__dir__',\n",
       " '__divmod__',\n",
       " '__doc__',\n",
       " '__eq__',\n",
       " '__float__',\n",
       " '__floor__',\n",
       " '__floordiv__',\n",
       " '__format__',\n",
       " '__ge__',\n",
       " '__getattribute__',\n",
       " '__getnewargs__',\n",
       " '__gt__',\n",
       " '__hash__',\n",
       " '__index__',\n",
       " '__init__',\n",
       " '__int__',\n",
       " '__invert__',\n",
       " '__le__',\n",
       " '__lshift__',\n",
       " '__lt__',\n",
       " '__mod__',\n",
       " '__mul__',\n",
       " '__ne__',\n",
       " '__neg__',\n",
       " '__new__',\n",
       " '__or__',\n",
       " '__pos__',\n",
       " '__pow__',\n",
       " '__radd__',\n",
       " '__rand__',\n",
       " '__rdivmod__',\n",
       " '__reduce__',\n",
       " '__reduce_ex__',\n",
       " '__repr__',\n",
       " '__rfloordiv__',\n",
       " '__rlshift__',\n",
       " '__rmod__',\n",
       " '__rmul__',\n",
       " '__ror__',\n",
       " '__round__',\n",
       " '__rpow__',\n",
       " '__rrshift__',\n",
       " '__rshift__',\n",
       " '__rsub__',\n",
       " '__rtruediv__',\n",
       " '__rxor__',\n",
       " '__setattr__',\n",
       " '__sizeof__',\n",
       " '__str__',\n",
       " '__sub__',\n",
       " '__subclasshook__',\n",
       " '__truediv__',\n",
       " '__trunc__',\n",
       " '__xor__',\n",
       " 'bit_length',\n",
       " 'conjugate',\n",
       " 'denominator',\n",
       " 'from_bytes',\n",
       " 'imag',\n",
       " 'numerator',\n",
       " 'real',\n",
       " 'to_bytes']"
      ]
     },
     "execution_count": 14,
     "metadata": {},
     "output_type": "execute_result"
    }
   ],
   "source": [
    "# show methods and attributes associated with integers\n",
    "dir(1)"
   ]
  },
  {
   "cell_type": "markdown",
   "metadata": {},
   "source": [
    "we will have discussions about methods and attributes later"
   ]
  },
  {
   "cell_type": "markdown",
   "metadata": {},
   "source": [
<<<<<<< HEAD:Python/Beginner/week-01-unit-01-datatypes.ipynb
    "variables are just buckets that holds any types like below"
   ]
  },
  {
   "cell_type": "code",
   "execution_count": 15,
   "metadata": {
    "collapsed": false
   },
   "outputs": [],
   "source": [
    "# a is a variable\n",
    "a = 123"
=======
    "*Integers are Negative numbers and whole numbers such as -1, -2 ... or 0 or 1, 2 ...*"
>>>>>>> Upstream/master:Python/Beginner/unit-01-datatypes-reference.ipynb
   ]
  },
  {
   "cell_type": "markdown",
   "metadata": {},
   "source": [
<<<<<<< HEAD:Python/Beginner/week-01-unit-01-datatypes.ipynb
    "*Object attibutes*"
=======
    "## Floats\n",
    "---"
>>>>>>> Upstream/master:Python/Beginner/unit-01-datatypes-reference.ipynb
   ]
  },
  {
   "cell_type": "code",
<<<<<<< HEAD:Python/Beginner/week-01-unit-01-datatypes.ipynb
   "execution_count": 16,
=======
   "execution_count": 7,
>>>>>>> Upstream/master:Python/Beginner/unit-01-datatypes-reference.ipynb
   "metadata": {
    "collapsed": false
   },
   "outputs": [
    {
     "data": {
      "text/plain": [
       "123"
      ]
     },
<<<<<<< HEAD:Python/Beginner/week-01-unit-01-datatypes.ipynb
     "execution_count": 16,
=======
     "execution_count": 7,
>>>>>>> Upstream/master:Python/Beginner/unit-01-datatypes-reference.ipynb
     "metadata": {},
     "output_type": "execute_result"
    }
   ],
   "source": [
    "a.real"
   ]
  },
  {
   "cell_type": "code",
<<<<<<< HEAD:Python/Beginner/week-01-unit-01-datatypes.ipynb
   "execution_count": 17,
   "metadata": {
    "collapsed": false
   },
   "outputs": [
    {
     "ename": "SyntaxError",
     "evalue": "invalid syntax (<ipython-input-17-877379b219ea>, line 1)",
     "output_type": "error",
     "traceback": [
      "\u001b[0;36m  File \u001b[0;32m\"<ipython-input-17-877379b219ea>\"\u001b[0;36m, line \u001b[0;32m1\u001b[0m\n\u001b[0;31m    123.real\u001b[0m\n\u001b[0m           ^\u001b[0m\n\u001b[0;31mSyntaxError\u001b[0m\u001b[0;31m:\u001b[0m invalid syntax\n"
     ]
    }
   ],
   "source": [
    "123.real"
   ]
  },
  {
   "cell_type": "code",
   "execution_count": 18,
=======
   "execution_count": 8,
>>>>>>> Upstream/master:Python/Beginner/unit-01-datatypes-reference.ipynb
   "metadata": {
    "collapsed": false
   },
   "outputs": [
    {
     "data": {
      "text/plain": [
       "123"
      ]
     },
<<<<<<< HEAD:Python/Beginner/week-01-unit-01-datatypes.ipynb
     "execution_count": 18,
=======
     "execution_count": 8,
>>>>>>> Upstream/master:Python/Beginner/unit-01-datatypes-reference.ipynb
     "metadata": {},
     "output_type": "execute_result"
    }
   ],
   "source": [
    "(123).real"
   ]
  },
  {
   "cell_type": "markdown",
   "metadata": {},
   "source": [
    "*Object Methods*"
   ]
  },
  {
   "cell_type": "code",
<<<<<<< HEAD:Python/Beginner/week-01-unit-01-datatypes.ipynb
   "execution_count": 20,
   "metadata": {
    "collapsed": false
   },
   "outputs": [
    {
     "data": {
      "text/plain": [
       "<function int.to_bytes>"
      ]
     },
     "execution_count": 20,
     "metadata": {},
     "output_type": "execute_result"
    }
   ],
   "source": [
    "a.to_bytes"
   ]
  },
  {
   "cell_type": "code",
   "execution_count": 21,
   "metadata": {
    "collapsed": false
   },
   "outputs": [
    {
     "name": "stdout",
     "output_type": "stream",
     "text": [
      "Help on built-in function to_bytes:\n",
      "\n",
      "to_bytes(...) method of builtins.int instance\n",
      "    int.to_bytes(length, byteorder, *, signed=False) -> bytes\n",
      "    \n",
      "    Return an array of bytes representing an integer.\n",
      "    \n",
      "    The integer is represented using length bytes.  An OverflowError is\n",
      "    raised if the integer is not representable with the given number of\n",
      "    bytes.\n",
      "    \n",
      "    The byteorder argument determines the byte order used to represent the\n",
      "    integer.  If byteorder is 'big', the most significant byte is at the\n",
      "    beginning of the byte array.  If byteorder is 'little', the most\n",
      "    significant byte is at the end of the byte array.  To request the native\n",
      "    byte order of the host system, use `sys.byteorder' as the byte order value.\n",
      "    \n",
      "    The signed keyword-only argument determines whether two's complement is\n",
      "    used to represent the integer.  If signed is False and a negative integer\n",
      "    is given, an OverflowError is raised.\n",
      "\n"
     ]
    }
   ],
   "source": [
    "help(a.to_bytes)"
   ]
  },
  {
   "cell_type": "code",
   "execution_count": 22,
=======
   "execution_count": 146,
>>>>>>> Upstream/master:Python/Beginner/unit-01-datatypes-reference.ipynb
   "metadata": {
    "collapsed": false
   },
   "outputs": [
    {
     "data": {
      "text/plain": [
<<<<<<< HEAD:Python/Beginner/week-01-unit-01-datatypes.ipynb
       "1"
      ]
     },
     "execution_count": 22,
=======
       "-0.8"
      ]
     },
     "execution_count": 146,
>>>>>>> Upstream/master:Python/Beginner/unit-01-datatypes-reference.ipynb
     "metadata": {},
     "output_type": "execute_result"
    }
   ],
   "source": [
<<<<<<< HEAD:Python/Beginner/week-01-unit-01-datatypes.ipynb
    "# casting to int\n",
    "int(1.5)"
   ]
  },
  {
   "cell_type": "code",
   "execution_count": 23,
=======
    "-.8"
   ]
  },
  {
   "cell_type": "markdown",
>>>>>>> Upstream/master:Python/Beginner/unit-01-datatypes-reference.ipynb
   "metadata": {
    "collapsed": false
   },
<<<<<<< HEAD:Python/Beginner/week-01-unit-01-datatypes.ipynb
   "outputs": [
    {
     "data": {
      "text/plain": [
       "float"
      ]
     },
     "execution_count": 23,
     "metadata": {},
     "output_type": "execute_result"
    }
   ],
   "source": [
    "type(1.5)"
   ]
  },
  {
   "cell_type": "markdown",
   "metadata": {},
   "source": [
    "*Non numeric fields cannot be casted to int*"
   ]
  },
  {
   "cell_type": "code",
   "execution_count": 24,
   "metadata": {
    "collapsed": false
   },
   "outputs": [
    {
     "ename": "ValueError",
     "evalue": "invalid literal for int() with base 10: 'a'",
     "output_type": "error",
     "traceback": [
      "\u001b[0;31m---------------------------------------------------------------------------\u001b[0m",
      "\u001b[0;31mValueError\u001b[0m                                Traceback (most recent call last)",
      "\u001b[0;32m<ipython-input-24-b3c3f4515dd4>\u001b[0m in \u001b[0;36m<module>\u001b[0;34m()\u001b[0m\n\u001b[0;32m----> 1\u001b[0;31m \u001b[0mint\u001b[0m\u001b[0;34m(\u001b[0m\u001b[0;34m'a'\u001b[0m\u001b[0;34m)\u001b[0m\u001b[0;34m\u001b[0m\u001b[0m\n\u001b[0m",
      "\u001b[0;31mValueError\u001b[0m: invalid literal for int() with base 10: 'a'"
     ]
    }
   ],
   "source": [
    "int('a')"
   ]
  },
  {
   "cell_type": "markdown",
   "metadata": {},
   "source": [
    "### Floats\n",
=======
   "source": [
    "*Floats are decimal numbers, or in mathematical terms they are Rational/Irrational numbers*"
   ]
  },
  {
   "cell_type": "markdown",
   "metadata": {},
   "source": [
    "## Boolean\n",
>>>>>>> Upstream/master:Python/Beginner/unit-01-datatypes-reference.ipynb
    "---"
   ]
  },
  {
   "cell_type": "code",
<<<<<<< HEAD:Python/Beginner/week-01-unit-01-datatypes.ipynb
   "execution_count": 25,
=======
   "execution_count": 12,
>>>>>>> Upstream/master:Python/Beginner/unit-01-datatypes-reference.ipynb
   "metadata": {
    "collapsed": false
   },
   "outputs": [
    {
     "data": {
      "text/plain": [
       "1.5"
      ]
     },
<<<<<<< HEAD:Python/Beginner/week-01-unit-01-datatypes.ipynb
     "execution_count": 25,
=======
     "execution_count": 12,
>>>>>>> Upstream/master:Python/Beginner/unit-01-datatypes-reference.ipynb
     "metadata": {},
     "output_type": "execute_result"
    }
   ],
   "source": [
    "1.5"
   ]
  },
  {
   "cell_type": "code",
<<<<<<< HEAD:Python/Beginner/week-01-unit-01-datatypes.ipynb
   "execution_count": 26,
=======
   "execution_count": 13,
>>>>>>> Upstream/master:Python/Beginner/unit-01-datatypes-reference.ipynb
   "metadata": {
    "collapsed": false
   },
   "outputs": [
    {
     "data": {
      "text/plain": [
       "0.4"
      ]
     },
<<<<<<< HEAD:Python/Beginner/week-01-unit-01-datatypes.ipynb
     "execution_count": 26,
=======
     "execution_count": 13,
>>>>>>> Upstream/master:Python/Beginner/unit-01-datatypes-reference.ipynb
     "metadata": {},
     "output_type": "execute_result"
    }
   ],
   "source": [
    ".4"
   ]
  },
  {
<<<<<<< HEAD:Python/Beginner/week-01-unit-01-datatypes.ipynb
   "cell_type": "code",
<<<<<<< HEAD
   "execution_count": 27,
=======
   "execution_count": 16,
>>>>>>> upstream/master
=======
   "cell_type": "markdown",
>>>>>>> Upstream/master:Python/Beginner/unit-01-datatypes-reference.ipynb
   "metadata": {
    "collapsed": true
   },
<<<<<<< HEAD:Python/Beginner/week-01-unit-01-datatypes.ipynb
   "outputs": [
    {
     "data": {
      "text/plain": [
       "0.6"
      ]
     },
<<<<<<< HEAD
     "execution_count": 27,
=======
     "execution_count": 16,
>>>>>>> upstream/master
     "metadata": {},
     "output_type": "execute_result"
    }
   ],
   "source": [
    "0.6"
   ]
  },
  {
   "cell_type": "code",
   "execution_count": 28,
   "metadata": {
    "collapsed": false
   },
   "outputs": [
    {
     "data": {
      "text/plain": [
       "float"
      ]
     },
     "execution_count": 28,
     "metadata": {},
     "output_type": "execute_result"
    }
   ],
   "source": [
    "type(1.6)"
=======
   "source": [
    "*Denotes a expression to be either true or false*"
   ]
  },
  {
   "cell_type": "markdown",
   "metadata": {},
   "source": [
    "## None\n",
    "---"
>>>>>>> Upstream/master:Python/Beginner/unit-01-datatypes-reference.ipynb
   ]
  },
  {
   "cell_type": "code",
<<<<<<< HEAD:Python/Beginner/week-01-unit-01-datatypes.ipynb
<<<<<<< HEAD
   "execution_count": 29,
=======
   "execution_count": 17,
>>>>>>> upstream/master
=======
   "execution_count": 15,
>>>>>>> Upstream/master:Python/Beginner/unit-01-datatypes-reference.ipynb
   "metadata": {
    "collapsed": false
   },
   "outputs": [
    {
     "data": {
      "text/plain": [
       "['__abs__',\n",
       " '__add__',\n",
       " '__bool__',\n",
       " '__class__',\n",
       " '__delattr__',\n",
       " '__dir__',\n",
       " '__divmod__',\n",
       " '__doc__',\n",
       " '__eq__',\n",
       " '__float__',\n",
       " '__floordiv__',\n",
       " '__format__',\n",
       " '__ge__',\n",
       " '__getattribute__',\n",
       " '__getformat__',\n",
       " '__getnewargs__',\n",
       " '__gt__',\n",
       " '__hash__',\n",
       " '__init__',\n",
       " '__int__',\n",
       " '__le__',\n",
       " '__lt__',\n",
       " '__mod__',\n",
       " '__mul__',\n",
       " '__ne__',\n",
       " '__neg__',\n",
       " '__new__',\n",
       " '__pos__',\n",
       " '__pow__',\n",
       " '__radd__',\n",
       " '__rdivmod__',\n",
       " '__reduce__',\n",
       " '__reduce_ex__',\n",
       " '__repr__',\n",
       " '__rfloordiv__',\n",
       " '__rmod__',\n",
       " '__rmul__',\n",
       " '__round__',\n",
       " '__rpow__',\n",
       " '__rsub__',\n",
       " '__rtruediv__',\n",
       " '__setattr__',\n",
       " '__setformat__',\n",
       " '__sizeof__',\n",
       " '__str__',\n",
       " '__sub__',\n",
       " '__subclasshook__',\n",
       " '__truediv__',\n",
       " '__trunc__',\n",
       " 'as_integer_ratio',\n",
       " 'conjugate',\n",
       " 'fromhex',\n",
       " 'hex',\n",
       " 'imag',\n",
       " 'is_integer',\n",
       " 'real']"
      ]
     },
     "execution_count": 29,
     "metadata": {},
     "output_type": "execute_result"
    }
   ],
   "source": [
    "dir(1.6)"
   ]
  },
  {
<<<<<<< HEAD:Python/Beginner/week-01-unit-01-datatypes.ipynb
   "cell_type": "code",
<<<<<<< HEAD
   "execution_count": 30,
=======
   "execution_count": 18,
>>>>>>> upstream/master
=======
   "cell_type": "markdown",
>>>>>>> Upstream/master:Python/Beginner/unit-01-datatypes-reference.ipynb
   "metadata": {
    "collapsed": false
   },
<<<<<<< HEAD:Python/Beginner/week-01-unit-01-datatypes.ipynb
   "outputs": [
    {
     "name": "stdout",
     "output_type": "stream",
     "text": [
      "Help on built-in function is_integer:\n",
      "\n",
      "is_integer(...) method of builtins.float instance\n",
      "    Return True if the float is an integer.\n",
      "\n"
     ]
    }
   ],
   "source": [
    "a = 1.5\n",
    "help(a.is_integer)"
=======
   "source": [
    "*Defines emptiness or non existence of value*"
   ]
  },
  {
   "cell_type": "markdown",
   "metadata": {},
   "source": [
    "## Complex Number\n",
    "---\n",
    "\n",
    "see definition of complex number [here](https://en.wikipedia.org/wiki/Complex_number)"
>>>>>>> Upstream/master:Python/Beginner/unit-01-datatypes-reference.ipynb
   ]
  },
  {
   "cell_type": "code",
<<<<<<< HEAD:Python/Beginner/week-01-unit-01-datatypes.ipynb
   "execution_count": 31,
=======
   "execution_count": 30,
>>>>>>> Upstream/master:Python/Beginner/unit-01-datatypes-reference.ipynb
   "metadata": {
    "collapsed": false
   },
   "outputs": [
    {
     "data": {
      "text/plain": [
<<<<<<< HEAD:Python/Beginner/week-01-unit-01-datatypes.ipynb
       "False"
      ]
     },
     "execution_count": 31,
=======
       "(1+3j)"
      ]
     },
     "execution_count": 30,
>>>>>>> Upstream/master:Python/Beginner/unit-01-datatypes-reference.ipynb
     "metadata": {},
     "output_type": "execute_result"
    }
   ],
   "source": [
<<<<<<< HEAD:Python/Beginner/week-01-unit-01-datatypes.ipynb
    "a.is_integer()"
   ]
  },
  {
   "cell_type": "code",
   "execution_count": 32,
   "metadata": {
    "collapsed": false
   },
   "outputs": [
    {
     "data": {
      "text/plain": [
       "1.0"
      ]
     },
     "execution_count": 32,
     "metadata": {},
     "output_type": "execute_result"
    }
   ],
   "source": [
    "# casting to float\n",
    "float(1)"
=======
    "1 + 3j"
   ]
  },
  {
   "cell_type": "markdown",
   "metadata": {},
   "source": [
    "$1 + i3$\n",
    "\n",
    "- 1 is real part\n",
    "- 3 is imaginary part"
>>>>>>> Upstream/master:Python/Beginner/unit-01-datatypes-reference.ipynb
   ]
  },
  {
   "cell_type": "markdown",
   "metadata": {},
   "source": [
<<<<<<< HEAD:Python/Beginner/week-01-unit-01-datatypes.ipynb
    "### Boolean\n",
=======
    "## String\n",
>>>>>>> Upstream/master:Python/Beginner/unit-01-datatypes-reference.ipynb
    "---"
   ]
  },
  {
   "cell_type": "code",
<<<<<<< HEAD:Python/Beginner/week-01-unit-01-datatypes.ipynb
   "execution_count": 33,
=======
   "execution_count": 38,
>>>>>>> Upstream/master:Python/Beginner/unit-01-datatypes-reference.ipynb
   "metadata": {
    "collapsed": false
   },
   "outputs": [
    {
     "data": {
      "text/plain": [
<<<<<<< HEAD:Python/Beginner/week-01-unit-01-datatypes.ipynb
       "True"
      ]
     },
     "execution_count": 33,
=======
       "'a'"
      ]
     },
     "execution_count": 38,
>>>>>>> Upstream/master:Python/Beginner/unit-01-datatypes-reference.ipynb
     "metadata": {},
     "output_type": "execute_result"
    }
   ],
   "source": [
<<<<<<< HEAD:Python/Beginner/week-01-unit-01-datatypes.ipynb
    "True"
   ]
  },
  {
   "cell_type": "code",
   "execution_count": 34,
   "metadata": {
    "collapsed": false
   },
   "outputs": [
    {
     "data": {
      "text/plain": [
       "bool"
      ]
     },
     "execution_count": 34,
     "metadata": {},
     "output_type": "execute_result"
    }
   ],
   "source": [
    "type(True)"
=======
    "'a'"
   ]
  },
  {
   "cell_type": "markdown",
   "metadata": {},
   "source": [
    "*__'a'__ is called __char__ in programming term, in Python it is string with length 1.*"
>>>>>>> Upstream/master:Python/Beginner/unit-01-datatypes-reference.ipynb
   ]
  },
  {
   "cell_type": "code",
<<<<<<< HEAD:Python/Beginner/week-01-unit-01-datatypes.ipynb
<<<<<<< HEAD
   "execution_count": 35,
=======
   "execution_count": 25,
>>>>>>> upstream/master
=======
   "execution_count": 39,
>>>>>>> Upstream/master:Python/Beginner/unit-01-datatypes-reference.ipynb
   "metadata": {
    "collapsed": false
   },
   "outputs": [
    {
     "data": {
      "text/plain": [
<<<<<<< HEAD:Python/Beginner/week-01-unit-01-datatypes.ipynb
       "False"
      ]
     },
<<<<<<< HEAD
     "execution_count": 35,
=======
     "execution_count": 25,
>>>>>>> upstream/master
=======
       "'this is string'"
      ]
     },
     "execution_count": 39,
>>>>>>> Upstream/master:Python/Beginner/unit-01-datatypes-reference.ipynb
     "metadata": {},
     "output_type": "execute_result"
    }
   ],
   "source": [
<<<<<<< HEAD:Python/Beginner/week-01-unit-01-datatypes.ipynb
    "False"
=======
    "'this is string'"
>>>>>>> Upstream/master:Python/Beginner/unit-01-datatypes-reference.ipynb
   ]
  },
  {
   "cell_type": "code",
<<<<<<< HEAD:Python/Beginner/week-01-unit-01-datatypes.ipynb
<<<<<<< HEAD
   "execution_count": 36,
=======
   "execution_count": 26,
>>>>>>> upstream/master
=======
   "execution_count": 40,
>>>>>>> Upstream/master:Python/Beginner/unit-01-datatypes-reference.ipynb
   "metadata": {
    "collapsed": false
   },
   "outputs": [
    {
     "data": {
      "text/plain": [
<<<<<<< HEAD:Python/Beginner/week-01-unit-01-datatypes.ipynb
       "1"
      ]
     },
<<<<<<< HEAD
     "execution_count": 36,
=======
     "execution_count": 26,
>>>>>>> upstream/master
=======
       "'this is also string'"
      ]
     },
     "execution_count": 40,
>>>>>>> Upstream/master:Python/Beginner/unit-01-datatypes-reference.ipynb
     "metadata": {},
     "output_type": "execute_result"
    }
   ],
   "source": [
<<<<<<< HEAD:Python/Beginner/week-01-unit-01-datatypes.ipynb
    "int(True)"
=======
    "\"this is also string\""
   ]
  },
  {
   "cell_type": "markdown",
   "metadata": {},
   "source": [
    "*Either single quoted '' or doubled quoted \"\", there is not real difference between them*"
>>>>>>> Upstream/master:Python/Beginner/unit-01-datatypes-reference.ipynb
   ]
  },
  {
   "cell_type": "code",
<<<<<<< HEAD:Python/Beginner/week-01-unit-01-datatypes.ipynb
   "execution_count": 37,
=======
   "execution_count": 41,
>>>>>>> Upstream/master:Python/Beginner/unit-01-datatypes-reference.ipynb
   "metadata": {
    "collapsed": false
   },
   "outputs": [
    {
<<<<<<< HEAD:Python/Beginner/week-01-unit-01-datatypes.ipynb
     "data": {
      "text/plain": [
       "0"
      ]
     },
     "execution_count": 37,
     "metadata": {},
     "output_type": "execute_result"
    }
   ],
   "source": [
    "int(False)"
   ]
  },
  {
   "cell_type": "markdown",
   "metadata": {},
   "source": [
    "### Complex Number\n",
    "---"
=======
     "ename": "SyntaxError",
     "evalue": "EOL while scanning string literal (<ipython-input-41-48ec24dbb974>, line 1)",
     "output_type": "error",
     "traceback": [
      "\u001b[0;36m  File \u001b[0;32m\"<ipython-input-41-48ec24dbb974>\"\u001b[0;36m, line \u001b[0;32m1\u001b[0m\n\u001b[0;31m    \"this is\u001b[0m\n\u001b[0m             ^\u001b[0m\n\u001b[0;31mSyntaxError\u001b[0m\u001b[0;31m:\u001b[0m EOL while scanning string literal\n"
     ]
    }
   ],
   "source": [
    "\"this is \n",
    "also string\""
   ]
  },
  {
   "cell_type": "markdown",
   "metadata": {},
   "source": [
    "*__Note__: single/doubled quoted strings must written in single line, ie newline is not allowed*"
   ]
  },
  {
   "cell_type": "markdown",
   "metadata": {},
   "source": [
    "### Tripple quoted string"
   ]
  },
  {
   "cell_type": "code",
   "execution_count": 42,
   "metadata": {
    "collapsed": false
   },
   "outputs": [
    {
     "data": {
      "text/plain": [
       "' This is new string\\nwith new line that \\n    preserves spaces\\n'"
      ]
     },
     "execution_count": 42,
     "metadata": {},
     "output_type": "execute_result"
    }
   ],
   "source": [
    "\"\"\" This is new string\n",
    "with new line that \n",
    "    preserves spaces\n",
    "\"\"\""
>>>>>>> Upstream/master:Python/Beginner/unit-01-datatypes-reference.ipynb
   ]
  },
  {
   "cell_type": "code",
<<<<<<< HEAD:Python/Beginner/week-01-unit-01-datatypes.ipynb
   "execution_count": 38,
=======
   "execution_count": 43,
>>>>>>> Upstream/master:Python/Beginner/unit-01-datatypes-reference.ipynb
   "metadata": {
    "collapsed": false
   },
   "outputs": [
    {
     "data": {
      "text/plain": [
<<<<<<< HEAD:Python/Beginner/week-01-unit-01-datatypes.ipynb
<<<<<<< HEAD
       "(1+3j)"
=======
       "b'\\x00\\x01'"
>>>>>>> upstream/master
      ]
     },
     "execution_count": 38,
=======
       "' This is same as above, \\nonly use of type of quote\\ndiffers'"
      ]
     },
     "execution_count": 43,
>>>>>>> Upstream/master:Python/Beginner/unit-01-datatypes-reference.ipynb
     "metadata": {},
     "output_type": "execute_result"
    }
   ],
   "source": [
<<<<<<< HEAD:Python/Beginner/week-01-unit-01-datatypes.ipynb
    "1 + 3j"
=======
    "''' This is same as above, \n",
    "only use of type of quote\n",
    "differs'''"
>>>>>>> Upstream/master:Python/Beginner/unit-01-datatypes-reference.ipynb
   ]
  },
  {
   "cell_type": "markdown",
   "metadata": {},
   "source": [
<<<<<<< HEAD:Python/Beginner/week-01-unit-01-datatypes.ipynb
    "$1 + 3i$\n",
    "\n",
    "- 1 is real part\n",
    "- 3 is imaginary part"
   ]
  },
  {
   "cell_type": "code",
   "execution_count": 39,
   "metadata": {
    "collapsed": true
   },
   "outputs": [],
   "source": [
    "a = 4 + 6j"
=======
    "*While triple quoted ''' or \"\"\", preserves newlines and spaces.*"
   ]
  },
  {
   "cell_type": "markdown",
   "metadata": {},
   "source": [
    "### Unicode string"
>>>>>>> Upstream/master:Python/Beginner/unit-01-datatypes-reference.ipynb
   ]
  },
  {
   "cell_type": "code",
<<<<<<< HEAD:Python/Beginner/week-01-unit-01-datatypes.ipynb
   "execution_count": 40,
=======
   "execution_count": 46,
>>>>>>> Upstream/master:Python/Beginner/unit-01-datatypes-reference.ipynb
   "metadata": {
    "collapsed": false
   },
   "outputs": [
    {
     "data": {
      "text/plain": [
<<<<<<< HEAD:Python/Beginner/week-01-unit-01-datatypes.ipynb
       "complex"
      ]
     },
     "execution_count": 40,
=======
       "'नेपालि'"
      ]
     },
     "execution_count": 46,
>>>>>>> Upstream/master:Python/Beginner/unit-01-datatypes-reference.ipynb
     "metadata": {},
     "output_type": "execute_result"
    }
   ],
   "source": [
<<<<<<< HEAD:Python/Beginner/week-01-unit-01-datatypes.ipynb
    "type(a)"
   ]
  },
  {
   "cell_type": "code",
   "execution_count": 41,
   "metadata": {
    "collapsed": false
   },
   "outputs": [
    {
     "data": {
      "text/plain": [
       "['__abs__',\n",
       " '__add__',\n",
       " '__bool__',\n",
       " '__class__',\n",
       " '__delattr__',\n",
       " '__dir__',\n",
       " '__divmod__',\n",
       " '__doc__',\n",
       " '__eq__',\n",
       " '__float__',\n",
       " '__floordiv__',\n",
       " '__format__',\n",
       " '__ge__',\n",
       " '__getattribute__',\n",
       " '__getnewargs__',\n",
       " '__gt__',\n",
       " '__hash__',\n",
       " '__init__',\n",
       " '__int__',\n",
       " '__le__',\n",
       " '__lt__',\n",
       " '__mod__',\n",
       " '__mul__',\n",
       " '__ne__',\n",
       " '__neg__',\n",
       " '__new__',\n",
       " '__pos__',\n",
       " '__pow__',\n",
       " '__radd__',\n",
       " '__rdivmod__',\n",
       " '__reduce__',\n",
       " '__reduce_ex__',\n",
       " '__repr__',\n",
       " '__rfloordiv__',\n",
       " '__rmod__',\n",
       " '__rmul__',\n",
       " '__rpow__',\n",
       " '__rsub__',\n",
       " '__rtruediv__',\n",
       " '__setattr__',\n",
       " '__sizeof__',\n",
       " '__str__',\n",
       " '__sub__',\n",
       " '__subclasshook__',\n",
       " '__truediv__',\n",
       " 'conjugate',\n",
       " 'imag',\n",
       " 'real']"
      ]
     },
     "execution_count": 41,
     "metadata": {},
     "output_type": "execute_result"
    }
   ],
   "source": [
    "dir(a)"
=======
    "'नेपालि'"
   ]
  },
  {
   "cell_type": "markdown",
   "metadata": {},
   "source": [
    "*Unicode is builtin to Python 3 Strings.*\n",
    "\n",
    "*Strings are sequence of unicodes.*"
   ]
  },
  {
   "cell_type": "markdown",
   "metadata": {},
   "source": [
    "## Bytes\n",
    "---"
>>>>>>> Upstream/master:Python/Beginner/unit-01-datatypes-reference.ipynb
   ]
  },
  {
   "cell_type": "code",
<<<<<<< HEAD:Python/Beginner/week-01-unit-01-datatypes.ipynb
<<<<<<< HEAD
   "execution_count": 42,
=======
   "execution_count": 32,
>>>>>>> upstream/master
=======
   "execution_count": 147,
>>>>>>> Upstream/master:Python/Beginner/unit-01-datatypes-reference.ipynb
   "metadata": {
    "collapsed": false
   },
   "outputs": [
    {
     "data": {
      "text/plain": [
<<<<<<< HEAD:Python/Beginner/week-01-unit-01-datatypes.ipynb
       "(4-6j)"
      ]
     },
<<<<<<< HEAD
     "execution_count": 42,
=======
     "execution_count": 32,
>>>>>>> upstream/master
=======
       "b'This is byte string'"
      ]
     },
     "execution_count": 147,
>>>>>>> Upstream/master:Python/Beginner/unit-01-datatypes-reference.ipynb
     "metadata": {},
     "output_type": "execute_result"
    }
   ],
   "source": [
<<<<<<< HEAD:Python/Beginner/week-01-unit-01-datatypes.ipynb
    "a.conjugate()"
   ]
  },
  {
   "cell_type": "code",
<<<<<<< HEAD
   "execution_count": 43,
=======
   "execution_count": 33,
>>>>>>> upstream/master
   "metadata": {
    "collapsed": false
   },
   "outputs": [
    {
     "data": {
      "text/plain": [
       "4.0"
      ]
     },
     "execution_count": 43,
     "metadata": {},
     "output_type": "execute_result"
    }
   ],
   "source": [
    "a.real"
   ]
  },
  {
   "cell_type": "code",
<<<<<<< HEAD
   "execution_count": 44,
=======
   "execution_count": 34,
>>>>>>> upstream/master
   "metadata": {
    "collapsed": false
   },
   "outputs": [
    {
     "data": {
      "text/plain": [
       "6.0"
      ]
     },
<<<<<<< HEAD
     "execution_count": 44,
=======
     "execution_count": 34,
>>>>>>> upstream/master
     "metadata": {},
     "output_type": "execute_result"
    }
   ],
   "source": [
    "a.imag"
   ]
  },
  {
   "cell_type": "markdown",
   "metadata": {},
   "source": [
    "### String\n",
    "---"
=======
    "b'This is byte string'"
   ]
  },
  {
   "cell_type": "markdown",
   "metadata": {},
   "source": [
    "*Bytes are sequence of bytes ie number from 0 to 255*"
   ]
  },
  {
   "cell_type": "markdown",
   "metadata": {},
   "source": [
    "## Builtin Functions\n",
    "---\n",
    "\n",
    "Builtin functions are those given by python, which gives us certain information or does some tasks.\n",
    "\n",
    "functions are generally **names** with opening and closing parenthesis **()**.\n",
    "\n",
    "between parenthesis we pass in some value,"
   ]
  },
  {
   "cell_type": "markdown",
   "metadata": {},
   "source": [
    "### type"
>>>>>>> Upstream/master:Python/Beginner/unit-01-datatypes-reference.ipynb
   ]
  },
  {
   "cell_type": "code",
<<<<<<< HEAD:Python/Beginner/week-01-unit-01-datatypes.ipynb
<<<<<<< HEAD
   "execution_count": 45,
=======
   "execution_count": 35,
>>>>>>> upstream/master
=======
   "execution_count": 148,
>>>>>>> Upstream/master:Python/Beginner/unit-01-datatypes-reference.ipynb
   "metadata": {
    "collapsed": false
   },
   "outputs": [
    {
     "data": {
      "text/plain": [
<<<<<<< HEAD:Python/Beginner/week-01-unit-01-datatypes.ipynb
       "'this is string'"
      ]
     },
<<<<<<< HEAD
     "execution_count": 45,
=======
     "execution_count": 35,
>>>>>>> upstream/master
=======
       "int"
      ]
     },
     "execution_count": 148,
>>>>>>> Upstream/master:Python/Beginner/unit-01-datatypes-reference.ipynb
     "metadata": {},
     "output_type": "execute_result"
    }
   ],
   "source": [
<<<<<<< HEAD:Python/Beginner/week-01-unit-01-datatypes.ipynb
    "# string\n",
    "'this is string'"
=======
    "type(1)"
>>>>>>> Upstream/master:Python/Beginner/unit-01-datatypes-reference.ipynb
   ]
  },
  {
   "cell_type": "code",
<<<<<<< HEAD:Python/Beginner/week-01-unit-01-datatypes.ipynb
<<<<<<< HEAD
   "execution_count": 46,
=======
   "execution_count": 36,
>>>>>>> upstream/master
=======
   "execution_count": 149,
>>>>>>> Upstream/master:Python/Beginner/unit-01-datatypes-reference.ipynb
   "metadata": {
    "collapsed": false
   },
   "outputs": [
    {
     "data": {
      "text/plain": [
<<<<<<< HEAD:Python/Beginner/week-01-unit-01-datatypes.ipynb
       "'this is also string'"
      ]
     },
<<<<<<< HEAD
     "execution_count": 46,
=======
     "execution_count": 36,
>>>>>>> upstream/master
=======
       "float"
      ]
     },
     "execution_count": 149,
>>>>>>> Upstream/master:Python/Beginner/unit-01-datatypes-reference.ipynb
     "metadata": {},
     "output_type": "execute_result"
    }
   ],
   "source": [
<<<<<<< HEAD:Python/Beginner/week-01-unit-01-datatypes.ipynb
    "\"this is also string\""
=======
    "type(2.5)"
>>>>>>> Upstream/master:Python/Beginner/unit-01-datatypes-reference.ipynb
   ]
  },
  {
   "cell_type": "code",
<<<<<<< HEAD:Python/Beginner/week-01-unit-01-datatypes.ipynb
<<<<<<< HEAD
   "execution_count": 47,
=======
   "execution_count": 37,
>>>>>>> upstream/master
=======
   "execution_count": 150,
>>>>>>> Upstream/master:Python/Beginner/unit-01-datatypes-reference.ipynb
   "metadata": {
    "collapsed": false
   },
   "outputs": [
    {
<<<<<<< HEAD
     "ename": "SyntaxError",
     "evalue": "EOL while scanning string literal (<ipython-input-47-48ec24dbb974>, line 1)",
     "output_type": "error",
     "traceback": [
      "\u001b[0;36m  File \u001b[0;32m\"<ipython-input-47-48ec24dbb974>\"\u001b[0;36m, line \u001b[0;32m1\u001b[0m\n\u001b[0;31m    \"this is\u001b[0m\n\u001b[0m             ^\u001b[0m\n\u001b[0;31mSyntaxError\u001b[0m\u001b[0;31m:\u001b[0m EOL while scanning string literal\n"
     ]
=======
     "data": {
      "text/plain": [
       "str"
      ]
     },
     "execution_count": 150,
     "metadata": {},
     "output_type": "execute_result"
>>>>>>> upstream/master
    }
   ],
   "source": [
<<<<<<< HEAD:Python/Beginner/week-01-unit-01-datatypes.ipynb
    "\"this is \n",
    "also string\""
=======
    "type('Nepal')"
>>>>>>> Upstream/master:Python/Beginner/unit-01-datatypes-reference.ipynb
   ]
  },
  {
   "cell_type": "code",
<<<<<<< HEAD:Python/Beginner/week-01-unit-01-datatypes.ipynb
<<<<<<< HEAD
   "execution_count": 48,
=======
   "execution_count": 38,
>>>>>>> upstream/master
=======
   "execution_count": 151,
>>>>>>> Upstream/master:Python/Beginner/unit-01-datatypes-reference.ipynb
   "metadata": {
    "collapsed": false
   },
   "outputs": [
    {
     "data": {
      "text/plain": [
<<<<<<< HEAD:Python/Beginner/week-01-unit-01-datatypes.ipynb
       "' This is new string\\nwith new line that \\n    preserves spaces\\n'"
      ]
     },
<<<<<<< HEAD
     "execution_count": 48,
=======
     "execution_count": 38,
>>>>>>> upstream/master
=======
       "complex"
      ]
     },
     "execution_count": 151,
>>>>>>> Upstream/master:Python/Beginner/unit-01-datatypes-reference.ipynb
     "metadata": {},
     "output_type": "execute_result"
    }
   ],
   "source": [
<<<<<<< HEAD:Python/Beginner/week-01-unit-01-datatypes.ipynb
    "\"\"\" This is new string\n",
    "with new line that \n",
    "    preserves spaces\n",
    "\"\"\""
=======
    "type(2 + 3j)"
>>>>>>> Upstream/master:Python/Beginner/unit-01-datatypes-reference.ipynb
   ]
  },
  {
   "cell_type": "code",
<<<<<<< HEAD:Python/Beginner/week-01-unit-01-datatypes.ipynb
<<<<<<< HEAD
   "execution_count": 49,
=======
   "execution_count": 39,
>>>>>>> upstream/master
=======
   "execution_count": 152,
>>>>>>> Upstream/master:Python/Beginner/unit-01-datatypes-reference.ipynb
   "metadata": {
    "collapsed": false
   },
   "outputs": [
    {
     "data": {
      "text/plain": [
<<<<<<< HEAD:Python/Beginner/week-01-unit-01-datatypes.ipynb
       "' This is same as above, \\nonly use of type of quote\\ndiffers'"
      ]
     },
<<<<<<< HEAD
     "execution_count": 49,
=======
     "execution_count": 39,
>>>>>>> upstream/master
=======
       "bytes"
      ]
     },
     "execution_count": 152,
>>>>>>> Upstream/master:Python/Beginner/unit-01-datatypes-reference.ipynb
     "metadata": {},
     "output_type": "execute_result"
    }
   ],
   "source": [
<<<<<<< HEAD:Python/Beginner/week-01-unit-01-datatypes.ipynb
    "''' This is same as above, \n",
    "only use of type of quote\n",
    "differs'''"
   ]
  },
  {
   "cell_type": "code",
   "execution_count": 52,
   "metadata": {
    "collapsed": false
   },
   "outputs": [
    {
     "name": "stdout",
     "output_type": "stream",
     "text": [
      "askdjaksd\n",
      "alsdjlaskd\n"
     ]
    }
   ],
   "source": [
    "print('askdjaksd\\nalsdjlaskd')"
=======
    "type(b'This is what?')"
   ]
  },
  {
   "cell_type": "markdown",
   "metadata": {},
   "source": [
    "*__type()__ functions returns/gives, what is datatype of given data/object.*"
   ]
  },
  {
   "cell_type": "markdown",
   "metadata": {},
   "source": [
    "### len"
>>>>>>> Upstream/master:Python/Beginner/unit-01-datatypes-reference.ipynb
   ]
  },
  {
   "cell_type": "code",
<<<<<<< HEAD:Python/Beginner/week-01-unit-01-datatypes.ipynb
<<<<<<< HEAD
   "execution_count": 51,
=======
   "execution_count": 40,
>>>>>>> upstream/master
=======
   "execution_count": 153,
>>>>>>> Upstream/master:Python/Beginner/unit-01-datatypes-reference.ipynb
   "metadata": {
    "collapsed": false
   },
   "outputs": [
    {
     "data": {
      "text/plain": [
<<<<<<< HEAD:Python/Beginner/week-01-unit-01-datatypes.ipynb
       "str"
      ]
     },
<<<<<<< HEAD
     "execution_count": 51,
=======
     "execution_count": 40,
>>>>>>> upstream/master
=======
       "19"
      ]
     },
     "execution_count": 153,
>>>>>>> Upstream/master:Python/Beginner/unit-01-datatypes-reference.ipynb
     "metadata": {},
     "output_type": "execute_result"
    }
   ],
   "source": [
<<<<<<< HEAD:Python/Beginner/week-01-unit-01-datatypes.ipynb
    "type('a string')"
   ]
  },
  {
   "cell_type": "markdown",
   "metadata": {},
   "source": [
    "*Python 3 is unicode language*"
=======
    "len('This is some string')"
>>>>>>> Upstream/master:Python/Beginner/unit-01-datatypes-reference.ipynb
   ]
  },
  {
   "cell_type": "code",
<<<<<<< HEAD:Python/Beginner/week-01-unit-01-datatypes.ipynb
<<<<<<< HEAD
   "execution_count": 53,
=======
   "execution_count": 41,
>>>>>>> upstream/master
=======
   "execution_count": 154,
>>>>>>> Upstream/master:Python/Beginner/unit-01-datatypes-reference.ipynb
   "metadata": {
    "collapsed": false
   },
   "outputs": [
    {
     "data": {
      "text/plain": [
<<<<<<< HEAD:Python/Beginner/week-01-unit-01-datatypes.ipynb
       "'नेपालि'"
      ]
     },
<<<<<<< HEAD
     "execution_count": 53,
=======
     "execution_count": 41,
>>>>>>> upstream/master
=======
       "4"
      ]
     },
     "execution_count": 154,
>>>>>>> Upstream/master:Python/Beginner/unit-01-datatypes-reference.ipynb
     "metadata": {},
     "output_type": "execute_result"
    }
   ],
   "source": [
<<<<<<< HEAD:Python/Beginner/week-01-unit-01-datatypes.ipynb
    "'नेपालि'"
   ]
  },
  {
   "cell_type": "code",
   "execution_count": 54,
   "metadata": {
    "collapsed": true
   },
   "outputs": [],
   "source": [
    "मेरो = 'कसदकजासहदकजासदकजासहदक'"
=======
    "len(b'This')"
>>>>>>> Upstream/master:Python/Beginner/unit-01-datatypes-reference.ipynb
   ]
  },
  {
   "cell_type": "code",
<<<<<<< HEAD:Python/Beginner/week-01-unit-01-datatypes.ipynb
<<<<<<< HEAD
   "execution_count": 55,
=======
   "execution_count": 42,
>>>>>>> upstream/master
=======
   "execution_count": 155,
>>>>>>> Upstream/master:Python/Beginner/unit-01-datatypes-reference.ipynb
   "metadata": {
    "collapsed": false
   },
   "outputs": [
    {
     "data": {
      "text/plain": [
<<<<<<< HEAD:Python/Beginner/week-01-unit-01-datatypes.ipynb
       "'कसदकजासहदकजासदकजासहदक'"
      ]
     },
<<<<<<< HEAD
     "execution_count": 55,
=======
     "execution_count": 42,
>>>>>>> upstream/master
=======
       "6"
      ]
     },
     "execution_count": 155,
>>>>>>> Upstream/master:Python/Beginner/unit-01-datatypes-reference.ipynb
     "metadata": {},
     "output_type": "execute_result"
    }
   ],
   "source": [
<<<<<<< HEAD:Python/Beginner/week-01-unit-01-datatypes.ipynb
    "मेरो"
=======
    "len('नेपाली')"
   ]
  },
  {
   "cell_type": "markdown",
   "metadata": {},
   "source": [
    "*__len()__ functions returns/gives the length of given string or bytes*\n",
    "\n",
    "*It doesn't work on other datatypes above*"
>>>>>>> Upstream/master:Python/Beginner/unit-01-datatypes-reference.ipynb
   ]
  },
  {
   "cell_type": "markdown",
   "metadata": {},
   "source": [
<<<<<<< HEAD:Python/Beginner/week-01-unit-01-datatypes.ipynb
    "### Bytes\n",
    "---"
=======
    "### help"
>>>>>>> Upstream/master:Python/Beginner/unit-01-datatypes-reference.ipynb
   ]
  },
  {
   "cell_type": "code",
<<<<<<< HEAD:Python/Beginner/week-01-unit-01-datatypes.ipynb
<<<<<<< HEAD
   "execution_count": 56,
=======
   "execution_count": 43,
>>>>>>> upstream/master
=======
   "execution_count": 158,
>>>>>>> Upstream/master:Python/Beginner/unit-01-datatypes-reference.ipynb
   "metadata": {
    "collapsed": false
   },
   "outputs": [
    {
<<<<<<< HEAD:Python/Beginner/week-01-unit-01-datatypes.ipynb
<<<<<<< HEAD
     "data": {
      "text/plain": [
       "b'this'"
      ]
     },
     "execution_count": 56,
     "metadata": {},
     "output_type": "execute_result"
=======
     "ename": "SyntaxError",
     "evalue": "EOL while scanning string literal (<ipython-input-43-48ec24dbb974>, line 1)",
     "output_type": "error",
     "traceback": [
      "\u001b[0;36m  File \u001b[0;32m\"<ipython-input-43-48ec24dbb974>\"\u001b[0;36m, line \u001b[0;32m1\u001b[0m\n\u001b[0;31m    \"this is\u001b[0m\n\u001b[0m             ^\u001b[0m\n\u001b[0;31mSyntaxError\u001b[0m\u001b[0;31m:\u001b[0m EOL while scanning string literal\n"
=======
     "name": "stdout",
     "output_type": "stream",
     "text": [
      "Help on built-in function dir in module builtins:\n",
      "\n",
      "dir(...)\n",
      "    dir([object]) -> list of strings\n",
      "    \n",
      "    If called without an argument, return the names in the current scope.\n",
      "    Else, return an alphabetized list of names comprising (some of) the attributes\n",
      "    of the given object, and of attributes reachable from it.\n",
      "    If the object supplies a method named __dir__, it will be used; otherwise\n",
      "    the default dir() logic is used and returns:\n",
      "      for a module object: the module's attributes.\n",
      "      for a class object:  its attributes, and recursively the attributes\n",
      "        of its bases.\n",
      "      for any other object: its attributes, its class's attributes, and\n",
      "        recursively the attributes of its class's base classes.\n",
      "\n"
>>>>>>> Upstream/master:Python/Beginner/unit-01-datatypes-reference.ipynb
     ]
>>>>>>> upstream/master
    }
   ],
   "source": [
<<<<<<< HEAD:Python/Beginner/week-01-unit-01-datatypes.ipynb
    "b'this'"
   ]
  },
  {
   "cell_type": "code",
<<<<<<< HEAD
   "execution_count": 60,
=======
   "execution_count": 44,
>>>>>>> upstream/master
   "metadata": {
    "collapsed": false
   },
   "outputs": [
    {
     "data": {
      "text/plain": [
       "bytes"
      ]
     },
<<<<<<< HEAD
     "execution_count": 60,
=======
     "execution_count": 44,
>>>>>>> upstream/master
     "metadata": {},
     "output_type": "execute_result"
    }
   ],
   "source": [
    "type(b'text')"
=======
    "help(dir)"
   ]
  },
  {
   "cell_type": "markdown",
   "metadata": {},
   "source": [
    "*__help()__ shows help text for given data/functions*"
   ]
  },
  {
   "cell_type": "markdown",
   "metadata": {},
   "source": [
    "### ord"
>>>>>>> Upstream/master:Python/Beginner/unit-01-datatypes-reference.ipynb
   ]
  },
  {
   "cell_type": "code",
<<<<<<< HEAD:Python/Beginner/week-01-unit-01-datatypes.ipynb
<<<<<<< HEAD
   "execution_count": 57,
=======
   "execution_count": 45,
>>>>>>> upstream/master
=======
   "execution_count": 159,
>>>>>>> Upstream/master:Python/Beginner/unit-01-datatypes-reference.ipynb
   "metadata": {
    "collapsed": false
   },
   "outputs": [
    {
     "data": {
      "text/plain": [
       "97"
      ]
     },
<<<<<<< HEAD:Python/Beginner/week-01-unit-01-datatypes.ipynb
<<<<<<< HEAD
     "execution_count": 57,
=======
     "execution_count": 45,
>>>>>>> upstream/master
=======
     "execution_count": 159,
>>>>>>> Upstream/master:Python/Beginner/unit-01-datatypes-reference.ipynb
     "metadata": {},
     "output_type": "execute_result"
    }
   ],
   "source": [
<<<<<<< HEAD:Python/Beginner/week-01-unit-01-datatypes.ipynb
<<<<<<< HEAD
    "ord('a')"
=======
    "''' This is same as above, \n",
    "only use of type of quote\n",
    "differs'''"
   ]
  },
  {
   "cell_type": "code",
   "execution_count": 46,
   "metadata": {
    "collapsed": false
   },
   "outputs": [
    {
     "name": "stdout",
     "output_type": "stream",
     "text": [
      "askdjaksd\n",
      "alsdjlaskd\n"
     ]
    }
   ],
   "source": [
    "print('askdjaksd\\nalsdjlaskd')"
>>>>>>> upstream/master
=======
    "ord('a')"
>>>>>>> Upstream/master:Python/Beginner/unit-01-datatypes-reference.ipynb
   ]
  },
  {
   "cell_type": "code",
<<<<<<< HEAD:Python/Beginner/week-01-unit-01-datatypes.ipynb
<<<<<<< HEAD
   "execution_count": 58,
=======
   "execution_count": 47,
>>>>>>> upstream/master
=======
   "execution_count": 160,
>>>>>>> Upstream/master:Python/Beginner/unit-01-datatypes-reference.ipynb
   "metadata": {
    "collapsed": false
   },
   "outputs": [
    {
     "data": {
      "text/plain": [
<<<<<<< HEAD:Python/Beginner/week-01-unit-01-datatypes.ipynb
       "'b'"
      ]
     },
<<<<<<< HEAD
     "execution_count": 58,
=======
     "execution_count": 47,
>>>>>>> upstream/master
=======
       "2325"
      ]
     },
     "execution_count": 160,
>>>>>>> Upstream/master:Python/Beginner/unit-01-datatypes-reference.ipynb
     "metadata": {},
     "output_type": "execute_result"
    }
   ],
   "source": [
<<<<<<< HEAD:Python/Beginner/week-01-unit-01-datatypes.ipynb
    "chr(98)"
   ]
  },
  {
   "cell_type": "markdown",
   "metadata": {},
   "source": [
    "*converting string to bytes*"
   ]
  },
  {
   "cell_type": "code",
   "execution_count": 59,
   "metadata": {
    "collapsed": false
   },
   "outputs": [],
   "source": [
    "a = 'é'.encode()"
=======
    "ord('क')"
   ]
  },
  {
   "cell_type": "markdown",
   "metadata": {},
   "source": [
    "*Each character is associated with a specific/unique number.*\n",
    "\n",
    "*__ord()__ returns/gives the associated number for given character.*"
   ]
  },
  {
   "cell_type": "markdown",
   "metadata": {},
   "source": [
    "### chr"
>>>>>>> Upstream/master:Python/Beginner/unit-01-datatypes-reference.ipynb
   ]
  },
  {
   "cell_type": "code",
<<<<<<< HEAD:Python/Beginner/week-01-unit-01-datatypes.ipynb
<<<<<<< HEAD
   "execution_count": 61,
=======
   "execution_count": 48,
>>>>>>> upstream/master
=======
   "execution_count": 161,
>>>>>>> Upstream/master:Python/Beginner/unit-01-datatypes-reference.ipynb
   "metadata": {
    "collapsed": false
   },
   "outputs": [
    {
     "data": {
      "text/plain": [
<<<<<<< HEAD:Python/Beginner/week-01-unit-01-datatypes.ipynb
       "b'\\xc3\\xa9'"
      ]
     },
<<<<<<< HEAD
     "execution_count": 61,
=======
     "execution_count": 48,
>>>>>>> upstream/master
=======
       "'ख'"
      ]
     },
     "execution_count": 161,
>>>>>>> Upstream/master:Python/Beginner/unit-01-datatypes-reference.ipynb
     "metadata": {},
     "output_type": "execute_result"
    }
   ],
   "source": [
<<<<<<< HEAD:Python/Beginner/week-01-unit-01-datatypes.ipynb
    "a"
   ]
  },
  {
   "cell_type": "code",
<<<<<<< HEAD
   "execution_count": 62,
=======
   "execution_count": 49,
>>>>>>> upstream/master
   "metadata": {
    "collapsed": false
   },
   "outputs": [
    {
     "data": {
      "text/plain": [
       "233"
      ]
     },
     "execution_count": 62,
     "metadata": {},
     "output_type": "execute_result"
    }
   ],
   "source": [
    "ord('é')"
=======
    "chr(2326)"
>>>>>>> Upstream/master:Python/Beginner/unit-01-datatypes-reference.ipynb
   ]
  },
  {
   "cell_type": "code",
<<<<<<< HEAD:Python/Beginner/week-01-unit-01-datatypes.ipynb
<<<<<<< HEAD
   "execution_count": 63,
=======
   "execution_count": 50,
>>>>>>> upstream/master
=======
   "execution_count": 162,
>>>>>>> Upstream/master:Python/Beginner/unit-01-datatypes-reference.ipynb
   "metadata": {
    "collapsed": false
   },
   "outputs": [
    {
     "data": {
      "text/plain": [
<<<<<<< HEAD:Python/Beginner/week-01-unit-01-datatypes.ipynb
       "2342"
      ]
     },
<<<<<<< HEAD
     "execution_count": 63,
=======
     "execution_count": 50,
>>>>>>> upstream/master
=======
       "'b'"
      ]
     },
     "execution_count": 162,
>>>>>>> Upstream/master:Python/Beginner/unit-01-datatypes-reference.ipynb
     "metadata": {},
     "output_type": "execute_result"
    }
   ],
   "source": [
<<<<<<< HEAD:Python/Beginner/week-01-unit-01-datatypes.ipynb
    "ord('द')"
=======
    "chr(98)"
>>>>>>> Upstream/master:Python/Beginner/unit-01-datatypes-reference.ipynb
   ]
  },
  {
   "cell_type": "markdown",
   "metadata": {},
   "source": [
<<<<<<< HEAD:Python/Beginner/week-01-unit-01-datatypes.ipynb
    "## Mathematical Operations"
   ]
  },
  {
   "cell_type": "markdown",
   "metadata": {},
   "source": [
    "### Addition ( + operator )\n",
    "---"
   ]
  },
  {
   "cell_type": "code",
<<<<<<< HEAD
   "execution_count": 64,
=======
   "execution_count": 51,
>>>>>>> upstream/master
   "metadata": {
    "collapsed": false
   },
   "outputs": [
    {
     "data": {
      "text/plain": [
       "3"
      ]
     },
<<<<<<< HEAD
     "execution_count": 64,
=======
     "execution_count": 51,
>>>>>>> upstream/master
     "metadata": {},
     "output_type": "execute_result"
    }
   ],
   "source": [
    "# add int with int -> result is int\n",
    "1 + 2"
=======
    "*__chr()__ is opposite of __ord()__, that it returns/gives character for given number.*"
   ]
  },
  {
   "cell_type": "markdown",
   "metadata": {},
   "source": [
    "## Type Casting\n",
    "---\n",
    "\n",
    "Changing from one type to another is called type casting"
>>>>>>> Upstream/master:Python/Beginner/unit-01-datatypes-reference.ipynb
   ]
  },
  {
   "cell_type": "code",
<<<<<<< HEAD:Python/Beginner/week-01-unit-01-datatypes.ipynb
<<<<<<< HEAD
   "execution_count": 65,
=======
   "execution_count": 52,
>>>>>>> upstream/master
=======
   "execution_count": 163,
>>>>>>> Upstream/master:Python/Beginner/unit-01-datatypes-reference.ipynb
   "metadata": {
    "collapsed": false
   },
   "outputs": [
    {
     "data": {
      "text/plain": [
<<<<<<< HEAD:Python/Beginner/week-01-unit-01-datatypes.ipynb
       "3.5"
      ]
     },
<<<<<<< HEAD
     "execution_count": 65,
=======
     "execution_count": 52,
>>>>>>> upstream/master
=======
       "1"
      ]
     },
     "execution_count": 163,
>>>>>>> Upstream/master:Python/Beginner/unit-01-datatypes-reference.ipynb
     "metadata": {},
     "output_type": "execute_result"
    }
   ],
   "source": [
<<<<<<< HEAD:Python/Beginner/week-01-unit-01-datatypes.ipynb
    "# add int with float -> result is promoted to float\n",
    "1.5 + 2"
=======
    "int(1.2)"
>>>>>>> Upstream/master:Python/Beginner/unit-01-datatypes-reference.ipynb
   ]
  },
  {
   "cell_type": "code",
<<<<<<< HEAD:Python/Beginner/week-01-unit-01-datatypes.ipynb
<<<<<<< HEAD
   "execution_count": 66,
=======
   "execution_count": 53,
>>>>>>> upstream/master
=======
   "execution_count": 164,
>>>>>>> Upstream/master:Python/Beginner/unit-01-datatypes-reference.ipynb
   "metadata": {
    "collapsed": false
   },
   "outputs": [
    {
     "data": {
      "text/plain": [
<<<<<<< HEAD:Python/Beginner/week-01-unit-01-datatypes.ipynb
       "2"
      ]
     },
<<<<<<< HEAD
     "execution_count": 66,
=======
     "execution_count": 53,
>>>>>>> upstream/master
=======
       "4"
      ]
     },
     "execution_count": 164,
>>>>>>> Upstream/master:Python/Beginner/unit-01-datatypes-reference.ipynb
     "metadata": {},
     "output_type": "execute_result"
    }
   ],
   "source": [
<<<<<<< HEAD:Python/Beginner/week-01-unit-01-datatypes.ipynb
    "# add int with boolean -> boolean is promoted to int\n",
    "# True == 1\n",
    "# False == 0\n",
    "1 + True"
=======
    "int('4')"
>>>>>>> Upstream/master:Python/Beginner/unit-01-datatypes-reference.ipynb
   ]
  },
  {
   "cell_type": "code",
<<<<<<< HEAD:Python/Beginner/week-01-unit-01-datatypes.ipynb
<<<<<<< HEAD
   "execution_count": 67,
=======
   "execution_count": 54,
>>>>>>> upstream/master
=======
   "execution_count": 165,
>>>>>>> Upstream/master:Python/Beginner/unit-01-datatypes-reference.ipynb
   "metadata": {
    "collapsed": false
   },
   "outputs": [
    {
<<<<<<< HEAD
     "ename": "TypeError",
     "evalue": "unsupported operand type(s) for +: 'int' and 'str'",
     "output_type": "error",
     "traceback": [
      "\u001b[0;31m---------------------------------------------------------------------------\u001b[0m",
      "\u001b[0;31mTypeError\u001b[0m                                 Traceback (most recent call last)",
      "\u001b[0;32m<ipython-input-67-351862647d74>\u001b[0m in \u001b[0;36m<module>\u001b[0;34m()\u001b[0m\n\u001b[1;32m      1\u001b[0m \u001b[0;31m# add int with string\u001b[0m\u001b[0;34m\u001b[0m\u001b[0;34m\u001b[0m\u001b[0m\n\u001b[0;32m----> 2\u001b[0;31m \u001b[0;36m1\u001b[0m \u001b[0;34m+\u001b[0m \u001b[0;34m'2'\u001b[0m\u001b[0;34m\u001b[0m\u001b[0m\n\u001b[0m",
      "\u001b[0;31mTypeError\u001b[0m: unsupported operand type(s) for +: 'int' and 'str'"
     ]
=======
     "data": {
      "text/plain": [
       "1"
      ]
     },
     "execution_count": 165,
     "metadata": {},
     "output_type": "execute_result"
>>>>>>> upstream/master
    }
   ],
   "source": [
<<<<<<< HEAD:Python/Beginner/week-01-unit-01-datatypes.ipynb
    "# add int with string\n",
    "1 + '2'"
=======
    "int(True)"
>>>>>>> Upstream/master:Python/Beginner/unit-01-datatypes-reference.ipynb
   ]
  },
  {
   "cell_type": "markdown",
   "metadata": {},
   "source": [
<<<<<<< HEAD:Python/Beginner/week-01-unit-01-datatypes.ipynb
    "- dynamically typed language **\n",
    "\n",
    "        a = 1\n",
    "    \n",
    "        a = 'string'\n",
    "\n",
    "\n",
    "- statically typed language\n",
    "\n",
    "        int a = 1\n",
    "    \n",
    "        a = 'p' // error"
=======
    "*We can change, a float, a boolean or a string into integer using __int()__ function*"
>>>>>>> Upstream/master:Python/Beginner/unit-01-datatypes-reference.ipynb
   ]
  },
  {
   "cell_type": "code",
<<<<<<< HEAD:Python/Beginner/week-01-unit-01-datatypes.ipynb
<<<<<<< HEAD
   "execution_count": 68,
=======
   "execution_count": 55,
>>>>>>> upstream/master
=======
   "execution_count": 166,
>>>>>>> Upstream/master:Python/Beginner/unit-01-datatypes-reference.ipynb
   "metadata": {
    "collapsed": false
   },
   "outputs": [
    {
<<<<<<< HEAD:Python/Beginner/week-01-unit-01-datatypes.ipynb
     "data": {
      "text/plain": [
       "'p'"
      ]
     },
<<<<<<< HEAD
     "execution_count": 68,
=======
     "execution_count": 55,
>>>>>>> upstream/master
     "metadata": {},
     "output_type": "execute_result"
    }
   ],
   "source": [
    "# assign a with int\n",
    "a = 1\n",
    "# reassign a with string\n",
    "a = 'p'\n",
    "# what a holds now\n",
    "a"
=======
     "ename": "TypeError",
     "evalue": "can't convert complex to int",
     "output_type": "error",
     "traceback": [
      "\u001b[0;31m---------------------------------------------------------------------------\u001b[0m",
      "\u001b[0;31mTypeError\u001b[0m                                 Traceback (most recent call last)",
      "\u001b[0;32m<ipython-input-166-2b902fde7481>\u001b[0m in \u001b[0;36m<module>\u001b[0;34m()\u001b[0m\n\u001b[0;32m----> 1\u001b[0;31m \u001b[0mint\u001b[0m\u001b[0;34m(\u001b[0m\u001b[0;36m2\u001b[0m \u001b[0;34m+\u001b[0m \u001b[0;36m3j\u001b[0m\u001b[0;34m)\u001b[0m\u001b[0;34m\u001b[0m\u001b[0m\n\u001b[0m",
      "\u001b[0;31mTypeError\u001b[0m: can't convert complex to int"
     ]
    }
   ],
   "source": [
    "int(2 + 3j)"
>>>>>>> Upstream/master:Python/Beginner/unit-01-datatypes-reference.ipynb
   ]
  },
  {
   "cell_type": "markdown",
   "metadata": {},
   "source": [
<<<<<<< HEAD:Python/Beginner/week-01-unit-01-datatypes.ipynb
    "- weak type system\n",
    "\n",
    "        a = 1\n",
    "    \n",
    "        b = 'a'\n",
    "\n",
    "        a + b\n",
    "\n",
    "- strongly typed language\n",
    "\n",
    "        a + b // error"
=======
    "*We cannot change a complex number to a integer*"
>>>>>>> Upstream/master:Python/Beginner/unit-01-datatypes-reference.ipynb
   ]
  },
  {
   "cell_type": "code",
<<<<<<< HEAD:Python/Beginner/week-01-unit-01-datatypes.ipynb
<<<<<<< HEAD
   "execution_count": 69,
=======
   "execution_count": 56,
>>>>>>> upstream/master
=======
   "execution_count": 167,
>>>>>>> Upstream/master:Python/Beginner/unit-01-datatypes-reference.ipynb
   "metadata": {
    "collapsed": false
   },
   "outputs": [
    {
<<<<<<< HEAD:Python/Beginner/week-01-unit-01-datatypes.ipynb
     "ename": "TypeError",
     "evalue": "unsupported operand type(s) for +: 'float' and 'str'",
     "output_type": "error",
     "traceback": [
      "\u001b[0;31m---------------------------------------------------------------------------\u001b[0m",
      "\u001b[0;31mTypeError\u001b[0m                                 Traceback (most recent call last)",
      "\u001b[0;32m<ipython-input-69-579e8a0a675d>\u001b[0m in \u001b[0;36m<module>\u001b[0;34m()\u001b[0m\n\u001b[0;32m----> 1\u001b[0;31m \u001b[0;36m1.5\u001b[0m \u001b[0;34m+\u001b[0m \u001b[0;34m'a'\u001b[0m\u001b[0;34m\u001b[0m\u001b[0m\n\u001b[0m",
      "\u001b[0;31mTypeError\u001b[0m: unsupported operand type(s) for +: 'float' and 'str'"
     ]
    }
   ],
   "source": [
    "1.5 + 'a'"
=======
     "ename": "ValueError",
     "evalue": "invalid literal for int() with base 10: 'a'",
     "output_type": "error",
     "traceback": [
      "\u001b[0;31m---------------------------------------------------------------------------\u001b[0m",
      "\u001b[0;31mValueError\u001b[0m                                Traceback (most recent call last)",
      "\u001b[0;32m<ipython-input-167-b3c3f4515dd4>\u001b[0m in \u001b[0;36m<module>\u001b[0;34m()\u001b[0m\n\u001b[0;32m----> 1\u001b[0;31m \u001b[0mint\u001b[0m\u001b[0;34m(\u001b[0m\u001b[0;34m'a'\u001b[0m\u001b[0;34m)\u001b[0m\u001b[0;34m\u001b[0m\u001b[0m\n\u001b[0m",
      "\u001b[0;31mValueError\u001b[0m: invalid literal for int() with base 10: 'a'"
     ]
    }
   ],
   "source": [
    "int('a')"
   ]
  },
  {
   "cell_type": "markdown",
   "metadata": {},
   "source": [
    "*While we must remember only numbers represented as string can be converted to integer*"
>>>>>>> Upstream/master:Python/Beginner/unit-01-datatypes-reference.ipynb
   ]
  },
  {
   "cell_type": "code",
<<<<<<< HEAD:Python/Beginner/week-01-unit-01-datatypes.ipynb
<<<<<<< HEAD
   "execution_count": 70,
=======
   "execution_count": 57,
>>>>>>> upstream/master
=======
   "execution_count": 168,
>>>>>>> Upstream/master:Python/Beginner/unit-01-datatypes-reference.ipynb
   "metadata": {
    "collapsed": false
   },
   "outputs": [
    {
     "data": {
      "text/plain": [
<<<<<<< HEAD:Python/Beginner/week-01-unit-01-datatypes.ipynb
       "'abc'"
      ]
     },
<<<<<<< HEAD
     "execution_count": 70,
=======
     "execution_count": 57,
>>>>>>> upstream/master
=======
       "1.0"
      ]
     },
     "execution_count": 168,
>>>>>>> Upstream/master:Python/Beginner/unit-01-datatypes-reference.ipynb
     "metadata": {},
     "output_type": "execute_result"
    }
   ],
   "source": [
<<<<<<< HEAD:Python/Beginner/week-01-unit-01-datatypes.ipynb
    "'a' + 'bc'"
=======
    "float(1)"
>>>>>>> Upstream/master:Python/Beginner/unit-01-datatypes-reference.ipynb
   ]
  },
  {
   "cell_type": "code",
<<<<<<< HEAD:Python/Beginner/week-01-unit-01-datatypes.ipynb
<<<<<<< HEAD
   "execution_count": 71,
=======
   "execution_count": 58,
>>>>>>> upstream/master
=======
   "execution_count": 169,
>>>>>>> Upstream/master:Python/Beginner/unit-01-datatypes-reference.ipynb
   "metadata": {
    "collapsed": false
   },
   "outputs": [
    {
     "data": {
      "text/plain": [
<<<<<<< HEAD:Python/Beginner/week-01-unit-01-datatypes.ipynb
       "(2.5+4j)"
      ]
     },
<<<<<<< HEAD
     "execution_count": 71,
=======
     "execution_count": 58,
>>>>>>> upstream/master
=======
       "5.5"
      ]
     },
     "execution_count": 169,
>>>>>>> Upstream/master:Python/Beginner/unit-01-datatypes-reference.ipynb
     "metadata": {},
     "output_type": "execute_result"
    }
   ],
   "source": [
<<<<<<< HEAD:Python/Beginner/week-01-unit-01-datatypes.ipynb
    "1.5 + (1 + 4j)"
=======
    "float('5.5')"
>>>>>>> Upstream/master:Python/Beginner/unit-01-datatypes-reference.ipynb
   ]
  },
  {
   "cell_type": "code",
<<<<<<< HEAD:Python/Beginner/week-01-unit-01-datatypes.ipynb
<<<<<<< HEAD
   "execution_count": 72,
=======
   "execution_count": 59,
>>>>>>> upstream/master
=======
   "execution_count": 170,
>>>>>>> Upstream/master:Python/Beginner/unit-01-datatypes-reference.ipynb
   "metadata": {
    "collapsed": false
   },
   "outputs": [
    {
     "data": {
      "text/plain": [
<<<<<<< HEAD:Python/Beginner/week-01-unit-01-datatypes.ipynb
       "(4+7j)"
      ]
     },
<<<<<<< HEAD
     "execution_count": 72,
=======
     "execution_count": 59,
>>>>>>> upstream/master
=======
       "0.0"
      ]
     },
     "execution_count": 170,
>>>>>>> Upstream/master:Python/Beginner/unit-01-datatypes-reference.ipynb
     "metadata": {},
     "output_type": "execute_result"
    }
   ],
   "source": [
<<<<<<< HEAD:Python/Beginner/week-01-unit-01-datatypes.ipynb
    "(1 + 2j) + (3 + 5j)"
   ]
  },
  {
   "cell_type": "code",
<<<<<<< HEAD
   "execution_count": 73,
=======
   "execution_count": 60,
>>>>>>> upstream/master
   "metadata": {
    "collapsed": false
   },
   "outputs": [
    {
     "data": {
      "text/plain": [
       "b'abc'"
      ]
     },
<<<<<<< HEAD
     "execution_count": 73,
=======
     "execution_count": 60,
>>>>>>> upstream/master
     "metadata": {},
     "output_type": "execute_result"
    }
   ],
   "source": [
    "b'a' + b'bc'"
   ]
  },
  {
   "cell_type": "markdown",
   "metadata": {},
   "source": [
    "### Substraction ( - ), Multiplication ( * ), Division ( / or // )\n",
    "---"
   ]
  },
  {
   "cell_type": "code",
<<<<<<< HEAD
   "execution_count": 74,
=======
   "execution_count": 61,
>>>>>>> upstream/master
   "metadata": {
    "collapsed": false
   },
   "outputs": [
    {
     "data": {
      "text/plain": [
       "1.5"
      ]
     },
<<<<<<< HEAD
     "execution_count": 74,
=======
     "execution_count": 61,
>>>>>>> upstream/master
     "metadata": {},
     "output_type": "execute_result"
    }
   ],
   "source": [
    "# float division aka real division\n",
    "3/2"
   ]
  },
  {
   "cell_type": "code",
<<<<<<< HEAD
   "execution_count": 75,
=======
   "execution_count": 62,
>>>>>>> upstream/master
   "metadata": {
    "collapsed": false
   },
   "outputs": [
    {
     "data": {
      "text/plain": [
       "1"
      ]
     },
<<<<<<< HEAD
     "execution_count": 75,
=======
     "execution_count": 62,
>>>>>>> upstream/master
     "metadata": {},
     "output_type": "execute_result"
    }
   ],
   "source": [
    "# integer division\n",
    "3//2"
=======
    "float(False)"
>>>>>>> Upstream/master:Python/Beginner/unit-01-datatypes-reference.ipynb
   ]
  },
  {
   "cell_type": "code",
<<<<<<< HEAD:Python/Beginner/week-01-unit-01-datatypes.ipynb
<<<<<<< HEAD
   "execution_count": 77,
=======
   "execution_count": 63,
>>>>>>> upstream/master
=======
   "execution_count": 171,
>>>>>>> Upstream/master:Python/Beginner/unit-01-datatypes-reference.ipynb
   "metadata": {
    "collapsed": false
   },
   "outputs": [
    {
<<<<<<< HEAD:Python/Beginner/week-01-unit-01-datatypes.ipynb
     "data": {
      "text/plain": [
       "6"
      ]
     },
<<<<<<< HEAD
     "execution_count": 77,
=======
     "execution_count": 63,
>>>>>>> upstream/master
     "metadata": {},
     "output_type": "execute_result"
    }
   ],
   "source": [
    "2 * 3"
=======
     "ename": "ValueError",
     "evalue": "could not convert string to float: 'p'",
     "output_type": "error",
     "traceback": [
      "\u001b[0;31m---------------------------------------------------------------------------\u001b[0m",
      "\u001b[0;31mValueError\u001b[0m                                Traceback (most recent call last)",
      "\u001b[0;32m<ipython-input-171-03da2a3da163>\u001b[0m in \u001b[0;36m<module>\u001b[0;34m()\u001b[0m\n\u001b[0;32m----> 1\u001b[0;31m \u001b[0mfloat\u001b[0m\u001b[0;34m(\u001b[0m\u001b[0;34m'p'\u001b[0m\u001b[0;34m)\u001b[0m\u001b[0;34m\u001b[0m\u001b[0m\n\u001b[0m",
      "\u001b[0;31mValueError\u001b[0m: could not convert string to float: 'p'"
     ]
    }
   ],
   "source": [
    "float('p')"
>>>>>>> Upstream/master:Python/Beginner/unit-01-datatypes-reference.ipynb
   ]
  },
  {
   "cell_type": "code",
<<<<<<< HEAD:Python/Beginner/week-01-unit-01-datatypes.ipynb
<<<<<<< HEAD
   "execution_count": 76,
=======
   "execution_count": 64,
>>>>>>> upstream/master
=======
   "execution_count": 172,
>>>>>>> Upstream/master:Python/Beginner/unit-01-datatypes-reference.ipynb
   "metadata": {
    "collapsed": false
   },
   "outputs": [
    {
<<<<<<< HEAD
     "data": {
      "text/plain": [
       "'aaa'"
      ]
     },
     "execution_count": 76,
     "metadata": {},
     "output_type": "execute_result"
=======
     "ename": "TypeError",
     "evalue": "can't convert complex to float",
     "output_type": "error",
     "traceback": [
      "\u001b[0;31m---------------------------------------------------------------------------\u001b[0m",
      "\u001b[0;31mTypeError\u001b[0m                                 Traceback (most recent call last)",
      "\u001b[0;32m<ipython-input-172-ab5fa5586ed6>\u001b[0m in \u001b[0;36m<module>\u001b[0;34m()\u001b[0m\n\u001b[0;32m----> 1\u001b[0;31m \u001b[0mfloat\u001b[0m\u001b[0;34m(\u001b[0m\u001b[0;36m3\u001b[0m \u001b[0;34m+\u001b[0m \u001b[0;36m7j\u001b[0m\u001b[0;34m)\u001b[0m\u001b[0;34m\u001b[0m\u001b[0m\n\u001b[0m",
      "\u001b[0;31mTypeError\u001b[0m: can't convert complex to float"
     ]
>>>>>>> upstream/master
    }
   ],
   "source": [
<<<<<<< HEAD:Python/Beginner/week-01-unit-01-datatypes.ipynb
    "'a' * 3"
=======
    "float(3 + 7j)"
>>>>>>> Upstream/master:Python/Beginner/unit-01-datatypes-reference.ipynb
   ]
  },
  {
   "cell_type": "markdown",
   "metadata": {},
   "source": [
<<<<<<< HEAD:Python/Beginner/week-01-unit-01-datatypes.ipynb
    "**H/W try all the combinations**"
   ]
  },
  {
   "cell_type": "code",
<<<<<<< HEAD
   "execution_count": null,
=======
   "execution_count": 65,
>>>>>>> upstream/master
   "metadata": {
    "collapsed": true
   },
<<<<<<< HEAD
   "outputs": [],
   "source": []
  },
  {
   "cell_type": "code",
   "execution_count": null,
=======
   "outputs": [
    {
     "ename": "TypeError",
     "evalue": "unsupported operand type(s) for +: 'float' and 'str'",
     "output_type": "error",
     "traceback": [
      "\u001b[0;31m---------------------------------------------------------------------------\u001b[0m",
      "\u001b[0;31mTypeError\u001b[0m                                 Traceback (most recent call last)",
      "\u001b[0;32m<ipython-input-65-579e8a0a675d>\u001b[0m in \u001b[0;36m<module>\u001b[0;34m()\u001b[0m\n\u001b[0;32m----> 1\u001b[0;31m \u001b[0;36m1.5\u001b[0m \u001b[0;34m+\u001b[0m \u001b[0;34m'a'\u001b[0m\u001b[0;34m\u001b[0m\u001b[0m\n\u001b[0m",
      "\u001b[0;31mTypeError\u001b[0m: unsupported operand type(s) for +: 'float' and 'str'"
     ]
    }
   ],
   "source": [
    "1.5 + 'a'"
=======
    "*Similar to __int()__, __float()__ functions changes a integer, string or boolean to a float*"
>>>>>>> Upstream/master:Python/Beginner/unit-01-datatypes-reference.ipynb
   ]
  },
  {
   "cell_type": "code",
<<<<<<< HEAD:Python/Beginner/week-01-unit-01-datatypes.ipynb
   "execution_count": 66,
>>>>>>> upstream/master
=======
   "execution_count": 173,
>>>>>>> Upstream/master:Python/Beginner/unit-01-datatypes-reference.ipynb
   "metadata": {
    "collapsed": true
   },
<<<<<<< HEAD
   "outputs": [],
   "source": []
  },
  {
   "cell_type": "markdown",
   "metadata": {},
=======
   "outputs": [
    {
     "data": {
      "text/plain": [
       "'1'"
      ]
     },
     "execution_count": 173,
     "metadata": {},
     "output_type": "execute_result"
    }
   ],
>>>>>>> upstream/master
   "source": [
<<<<<<< HEAD:Python/Beginner/week-01-unit-01-datatypes.ipynb
    "### Power ( ** )\n",
    "---"
=======
    "str(1)"
>>>>>>> Upstream/master:Python/Beginner/unit-01-datatypes-reference.ipynb
   ]
  },
  {
<<<<<<< HEAD
   "cell_type": "markdown",
   "metadata": {},
=======
   "cell_type": "code",
   "execution_count": 174,
   "metadata": {
    "collapsed": false
   },
   "outputs": [
    {
     "data": {
      "text/plain": [
       "'4.5'"
      ]
     },
     "execution_count": 174,
     "metadata": {},
     "output_type": "execute_result"
    }
   ],
>>>>>>> upstream/master
   "source": [
<<<<<<< HEAD:Python/Beginner/week-01-unit-01-datatypes.ipynb
    "$2^3$"
=======
    "str(4.5)"
>>>>>>> Upstream/master:Python/Beginner/unit-01-datatypes-reference.ipynb
   ]
  },
  {
   "cell_type": "code",
<<<<<<< HEAD:Python/Beginner/week-01-unit-01-datatypes.ipynb
<<<<<<< HEAD
   "execution_count": 78,
=======
   "execution_count": 68,
>>>>>>> upstream/master
=======
   "execution_count": 175,
>>>>>>> Upstream/master:Python/Beginner/unit-01-datatypes-reference.ipynb
   "metadata": {
    "collapsed": false
   },
   "outputs": [
    {
     "data": {
      "text/plain": [
<<<<<<< HEAD:Python/Beginner/week-01-unit-01-datatypes.ipynb
       "8"
      ]
     },
<<<<<<< HEAD
     "execution_count": 78,
=======
     "execution_count": 68,
>>>>>>> upstream/master
=======
       "'True'"
      ]
     },
     "execution_count": 175,
>>>>>>> Upstream/master:Python/Beginner/unit-01-datatypes-reference.ipynb
     "metadata": {},
     "output_type": "execute_result"
    }
   ],
   "source": [
<<<<<<< HEAD:Python/Beginner/week-01-unit-01-datatypes.ipynb
    "2 ** 3"
=======
    "str(True)"
>>>>>>> Upstream/master:Python/Beginner/unit-01-datatypes-reference.ipynb
   ]
  },
  {
<<<<<<< HEAD
   "cell_type": "markdown",
   "metadata": {},
=======
   "cell_type": "code",
   "execution_count": 176,
   "metadata": {
    "collapsed": false
   },
   "outputs": [
    {
     "data": {
      "text/plain": [
       "'(5+9j)'"
      ]
     },
     "execution_count": 176,
     "metadata": {},
     "output_type": "execute_result"
    }
   ],
>>>>>>> upstream/master
   "source": [
<<<<<<< HEAD:Python/Beginner/week-01-unit-01-datatypes.ipynb
    "**H/W try on all data types**"
=======
    "str(5 + 9j)"
>>>>>>> Upstream/master:Python/Beginner/unit-01-datatypes-reference.ipynb
   ]
  },
  {
   "cell_type": "markdown",
   "metadata": {},
   "source": [
<<<<<<< HEAD:Python/Beginner/week-01-unit-01-datatypes.ipynb
    "## Variables\n",
    "---"
=======
    "*__str()__ function converts all other types to string.*"
>>>>>>> Upstream/master:Python/Beginner/unit-01-datatypes-reference.ipynb
   ]
  },
  {
   "cell_type": "code",
<<<<<<< HEAD:Python/Beginner/week-01-unit-01-datatypes.ipynb
<<<<<<< HEAD
   "execution_count": 79,
=======
   "execution_count": 70,
>>>>>>> upstream/master
=======
   "execution_count": 177,
>>>>>>> Upstream/master:Python/Beginner/unit-01-datatypes-reference.ipynb
   "metadata": {
    "collapsed": true
   },
<<<<<<< HEAD
   "outputs": [],
=======
   "outputs": [
    {
     "data": {
      "text/plain": [
       "(1+0j)"
      ]
     },
     "execution_count": 177,
     "metadata": {},
     "output_type": "execute_result"
    }
   ],
>>>>>>> upstream/master
   "source": [
<<<<<<< HEAD:Python/Beginner/week-01-unit-01-datatypes.ipynb
    "# variable naming\n",
    "# starts only with underscore (_) or char (a-zA-Z)\n",
    "# follow by any underscore (_) or chars (a-zA-Z) or numbers (0-9)\n",
    "a = 1\n",
    "_ = 5\n",
    "a1 = 6"
=======
    "complex(1)"
>>>>>>> Upstream/master:Python/Beginner/unit-01-datatypes-reference.ipynb
   ]
  },
  {
   "cell_type": "code",
<<<<<<< HEAD:Python/Beginner/week-01-unit-01-datatypes.ipynb
<<<<<<< HEAD
   "execution_count": 80,
=======
   "execution_count": 71,
>>>>>>> upstream/master
=======
   "execution_count": 178,
>>>>>>> Upstream/master:Python/Beginner/unit-01-datatypes-reference.ipynb
   "metadata": {
    "collapsed": false
   },
   "outputs": [
    {
<<<<<<< HEAD
     "ename": "SyntaxError",
     "evalue": "invalid syntax (<ipython-input-80-058bab10da73>, line 2)",
     "output_type": "error",
     "traceback": [
      "\u001b[0;36m  File \u001b[0;32m\"<ipython-input-80-058bab10da73>\"\u001b[0;36m, line \u001b[0;32m2\u001b[0m\n\u001b[0;31m    1bc = 6\u001b[0m\n\u001b[0m      ^\u001b[0m\n\u001b[0;31mSyntaxError\u001b[0m\u001b[0;31m:\u001b[0m invalid syntax\n"
     ]
=======
     "data": {
      "text/plain": [
       "(4.5+0j)"
      ]
     },
     "execution_count": 178,
     "metadata": {},
     "output_type": "execute_result"
>>>>>>> upstream/master
    }
   ],
   "source": [
<<<<<<< HEAD:Python/Beginner/week-01-unit-01-datatypes.ipynb
    "# illegal starts with number\n",
    "1bc = 6"
=======
    "complex(4.5)"
>>>>>>> Upstream/master:Python/Beginner/unit-01-datatypes-reference.ipynb
   ]
  },
  {
   "cell_type": "code",
<<<<<<< HEAD:Python/Beginner/week-01-unit-01-datatypes.ipynb
<<<<<<< HEAD
   "execution_count": 81,
=======
   "execution_count": 72,
>>>>>>> upstream/master
=======
   "execution_count": 179,
>>>>>>> Upstream/master:Python/Beginner/unit-01-datatypes-reference.ipynb
   "metadata": {
    "collapsed": true
   },
<<<<<<< HEAD
   "outputs": [],
=======
   "outputs": [
    {
     "data": {
      "text/plain": [
       "(4+0j)"
      ]
     },
     "execution_count": 179,
     "metadata": {},
     "output_type": "execute_result"
    }
   ],
>>>>>>> upstream/master
   "source": [
<<<<<<< HEAD:Python/Beginner/week-01-unit-01-datatypes.ipynb
    "a = 6\n",
    "b = 3"
=======
    "complex('4')"
>>>>>>> Upstream/master:Python/Beginner/unit-01-datatypes-reference.ipynb
   ]
  },
  {
   "cell_type": "code",
<<<<<<< HEAD:Python/Beginner/week-01-unit-01-datatypes.ipynb
<<<<<<< HEAD
   "execution_count": 82,
=======
   "execution_count": 73,
>>>>>>> upstream/master
=======
   "execution_count": 181,
>>>>>>> Upstream/master:Python/Beginner/unit-01-datatypes-reference.ipynb
   "metadata": {
    "collapsed": false
   },
   "outputs": [
    {
     "data": {
      "text/plain": [
<<<<<<< HEAD:Python/Beginner/week-01-unit-01-datatypes.ipynb
       "6"
      ]
     },
<<<<<<< HEAD
     "execution_count": 82,
=======
     "execution_count": 73,
>>>>>>> upstream/master
=======
       "(1+0j)"
      ]
     },
     "execution_count": 181,
>>>>>>> Upstream/master:Python/Beginner/unit-01-datatypes-reference.ipynb
     "metadata": {},
     "output_type": "execute_result"
    }
   ],
   "source": [
<<<<<<< HEAD:Python/Beginner/week-01-unit-01-datatypes.ipynb
<<<<<<< HEAD
=======
    "'a' * 3"
=======
    "complex(True)"
>>>>>>> Upstream/master:Python/Beginner/unit-01-datatypes-reference.ipynb
   ]
  },
  {
   "cell_type": "code",
   "execution_count": 180,
   "metadata": {
    "collapsed": false
   },
   "outputs": [
    {
     "ename": "ValueError",
     "evalue": "complex() arg is a malformed string",
     "output_type": "error",
     "traceback": [
      "\u001b[0;31m---------------------------------------------------------------------------\u001b[0m",
      "\u001b[0;31mValueError\u001b[0m                                Traceback (most recent call last)",
      "\u001b[0;32m<ipython-input-180-01cd5c75075b>\u001b[0m in \u001b[0;36m<module>\u001b[0;34m()\u001b[0m\n\u001b[0;32m----> 1\u001b[0;31m \u001b[0mcomplex\u001b[0m\u001b[0;34m(\u001b[0m\u001b[0;34m'p'\u001b[0m\u001b[0;34m)\u001b[0m\u001b[0;34m\u001b[0m\u001b[0m\n\u001b[0m",
      "\u001b[0;31mValueError\u001b[0m: complex() arg is a malformed string"
     ]
    }
   ],
   "source": [
    "complex('p')"
   ]
  },
  {
   "cell_type": "markdown",
   "metadata": {},
   "source": [
    "*__complex()__ function converts other datatypes to complex number.*\n",
    "\n",
    "*__Note:__ Remember the difference between string number and string character.*"
   ]
  },
  {
   "cell_type": "markdown",
   "metadata": {},
   "source": [
    "## Names/Variables\n",
    "---\n",
    "\n",
    "We give _name_ to data, so that they can be identified later on. Such names are also known as _variables_."
   ]
  },
  {
   "cell_type": "code",
   "execution_count": 182,
   "metadata": {
    "collapsed": true
   },
   "outputs": [],
   "source": [
    "pi = 3.1415"
   ]
  },
  {
   "cell_type": "markdown",
   "metadata": {},
   "source": [
    "*Much like above names must be meaningful* \n",
    "\n",
    "*for example, if we need to use $\\pi$ later on we can just use __pi__ instead of using __3.1415__ each time.*"
   ]
  },
  {
   "cell_type": "markdown",
   "metadata": {},
   "source": [
    "There is a rule for defining a _variable_ name or just _name_ ( which we will call from now on. )\n",
    "\n",
    "- It must start with either a _character_ or a _underscore_ \n",
    "- while it can have a _character_, a _underscore_ or a _number_ after that"
   ]
  },
  {
   "cell_type": "code",
   "execution_count": 183,
   "metadata": {
    "collapsed": true
   },
   "outputs": [],
   "source": [
    "a = 1\n",
    "_ = 5\n",
    "a1 = 6"
   ]
  },
  {
   "cell_type": "markdown",
   "metadata": {},
   "source": [
    "*valid names*"
   ]
  },
  {
   "cell_type": "code",
   "execution_count": 184,
   "metadata": {
    "collapsed": false
   },
   "outputs": [
    {
     "ename": "SyntaxError",
     "evalue": "invalid syntax (<ipython-input-184-19d512103f15>, line 1)",
     "output_type": "error",
     "traceback": [
      "\u001b[0;36m  File \u001b[0;32m\"<ipython-input-184-19d512103f15>\"\u001b[0;36m, line \u001b[0;32m1\u001b[0m\n\u001b[0;31m    2bc = 77\u001b[0m\n\u001b[0m      ^\u001b[0m\n\u001b[0;31mSyntaxError\u001b[0m\u001b[0;31m:\u001b[0m invalid syntax\n"
     ]
    }
   ],
   "source": [
    "2bc = 77"
   ]
  },
  {
   "cell_type": "markdown",
   "metadata": {},
   "source": [
    "*Invalid name*"
   ]
  },
  {
   "cell_type": "markdown",
   "metadata": {},
   "source": [
<<<<<<< HEAD:Python/Beginner/week-01-unit-01-datatypes.ipynb
    "## Variables\n",
    "---"
   ]
  },
  {
   "cell_type": "code",
   "execution_count": 23,
   "metadata": {
    "collapsed": true
   },
   "outputs": [],
   "source": [
    "# variable naming\n",
    "# starts only with underscore (_) or char (a-zA-Z)\n",
    "# follow by any underscore (_) or chars (a-zA-Z) or numbers (0-9)\n",
    "a = 1\n",
    "_ = 5\n",
    "a1 = 6"
   ]
  },
  {
   "cell_type": "code",
   "execution_count": 24,
   "metadata": {
    "collapsed": false
   },
   "outputs": [
    {
     "ename": "SyntaxError",
     "evalue": "invalid syntax (<ipython-input-24-058bab10da73>, line 2)",
     "output_type": "error",
     "traceback": [
      "\u001b[0;36m  File \u001b[0;32m\"<ipython-input-24-058bab10da73>\"\u001b[0;36m, line \u001b[0;32m2\u001b[0m\n\u001b[0;31m    1bc = 6\u001b[0m\n\u001b[0m      ^\u001b[0m\n\u001b[0;31mSyntaxError\u001b[0m\u001b[0;31m:\u001b[0m invalid syntax\n"
     ]
    }
   ],
   "source": [
    "# illegal starts with number\n",
    "1bc = 6"
   ]
  },
  {
   "cell_type": "code",
   "execution_count": 74,
   "metadata": {
    "collapsed": true
   },
   "outputs": [],
   "source": [
    "a = 6\n",
    "b = 3"
   ]
  },
  {
   "cell_type": "code",
   "execution_count": 75,
   "metadata": {
    "collapsed": false
   },
   "outputs": [
    {
     "data": {
      "text/plain": [
       "6"
      ]
     },
     "execution_count": 75,
     "metadata": {},
     "output_type": "execute_result"
    }
   ],
   "source": [
>>>>>>> upstream/master
    "a"
   ]
  },
  {
   "cell_type": "code",
   "execution_count": 76,
   "metadata": {
    "collapsed": true
   },
   "outputs": [],
   "source": [
    "a, b = 7, 8"
   ]
  },
  {
   "cell_type": "code",
   "execution_count": 77,
   "metadata": {
    "collapsed": false
   },
   "outputs": [
    {
     "data": {
      "text/plain": [
       "7"
      ]
     },
     "execution_count": 77,
     "metadata": {},
     "output_type": "execute_result"
    }
   ],
   "source": [
    "a"
   ]
  },
  {
   "cell_type": "code",
<<<<<<< HEAD
   "execution_count": 85,
=======
   "execution_count": 78,
>>>>>>> upstream/master
   "metadata": {
    "collapsed": false
   },
   "outputs": [
    {
     "data": {
      "text/plain": [
       "8"
<<<<<<< HEAD
      ]
     },
     "execution_count": 85,
=======
      ]
     },
     "execution_count": 78,
     "metadata": {},
     "output_type": "execute_result"
    }
   ],
   "source": [
    "b"
   ]
  },
  {
   "cell_type": "markdown",
   "metadata": {},
   "source": [
    "- dynamically typed language **\n",
=======
    "## Methods and Attributes\n",
    "---\n",
>>>>>>> Upstream/master:Python/Beginner/unit-01-datatypes-reference.ipynb
    "\n",
    "There are two kinds, that are attached to a datatypes\n",
    "\n",
    "- Attributes are properties\n",
    "- Methods are functions\n",
    "\n",
    "These are attached using a _dot_ \"__.__\" notation.\n",
    "\n",
    "- Attributes don't end with parenthesis __()__.\n",
    "- While methods end with parenthesis __()__ just like functions."
   ]
  },
  {
   "cell_type": "markdown",
   "metadata": {},
   "source": [
    "### dir"
   ]
  },
  {
   "cell_type": "code",
   "execution_count": 185,
   "metadata": {
    "collapsed": false
   },
   "outputs": [
    {
     "data": {
      "text/plain": [
       "['__abs__',\n",
       " '__add__',\n",
       " '__and__',\n",
       " '__bool__',\n",
       " '__ceil__',\n",
       " '__class__',\n",
       " '__delattr__',\n",
       " '__dir__',\n",
       " '__divmod__',\n",
       " '__doc__',\n",
       " '__eq__',\n",
       " '__float__',\n",
       " '__floor__',\n",
       " '__floordiv__',\n",
       " '__format__',\n",
       " '__ge__',\n",
       " '__getattribute__',\n",
       " '__getnewargs__',\n",
       " '__gt__',\n",
       " '__hash__',\n",
       " '__index__',\n",
       " '__init__',\n",
       " '__int__',\n",
       " '__invert__',\n",
       " '__le__',\n",
       " '__lshift__',\n",
       " '__lt__',\n",
       " '__mod__',\n",
       " '__mul__',\n",
       " '__ne__',\n",
       " '__neg__',\n",
       " '__new__',\n",
       " '__or__',\n",
       " '__pos__',\n",
       " '__pow__',\n",
       " '__radd__',\n",
       " '__rand__',\n",
       " '__rdivmod__',\n",
       " '__reduce__',\n",
       " '__reduce_ex__',\n",
       " '__repr__',\n",
       " '__rfloordiv__',\n",
       " '__rlshift__',\n",
       " '__rmod__',\n",
       " '__rmul__',\n",
       " '__ror__',\n",
       " '__round__',\n",
       " '__rpow__',\n",
       " '__rrshift__',\n",
       " '__rshift__',\n",
       " '__rsub__',\n",
       " '__rtruediv__',\n",
       " '__rxor__',\n",
       " '__setattr__',\n",
       " '__sizeof__',\n",
       " '__str__',\n",
       " '__sub__',\n",
       " '__subclasshook__',\n",
       " '__truediv__',\n",
       " '__trunc__',\n",
       " '__xor__',\n",
       " 'bit_length',\n",
       " 'conjugate',\n",
       " 'denominator',\n",
       " 'from_bytes',\n",
       " 'imag',\n",
       " 'numerator',\n",
       " 'real',\n",
       " 'to_bytes']"
      ]
     },
     "execution_count": 185,
     "metadata": {},
     "output_type": "execute_result"
    }
   ],
   "source": [
    "dir(1)"
   ]
  },
  {
   "cell_type": "markdown",
   "metadata": {},
   "source": [
    "*__dir()__ functions returns/gives list of available attributes and/or methods for given data/type.*"
   ]
  },
  {
   "cell_type": "code",
   "execution_count": 186,
   "metadata": {
    "collapsed": true
   },
   "outputs": [],
   "source": [
    "height = 8848"
   ]
  },
  {
   "cell_type": "markdown",
   "metadata": {},
   "source": [
    "*__height__ is given name for __8848__*"
   ]
  },
  {
   "cell_type": "code",
   "execution_count": 187,
   "metadata": {
    "collapsed": false
   },
   "outputs": [
    {
     "data": {
      "text/plain": [
       "8848"
      ]
     },
<<<<<<< HEAD:Python/Beginner/week-01-unit-01-datatypes.ipynb
     "execution_count": 82,
>>>>>>> upstream/master
=======
     "execution_count": 187,
>>>>>>> Upstream/master:Python/Beginner/unit-01-datatypes-reference.ipynb
     "metadata": {},
     "output_type": "execute_result"
    }
   ],
   "source": [
<<<<<<< HEAD:Python/Beginner/week-01-unit-01-datatypes.ipynb
    "b"
   ]
  },
  {
   "cell_type": "markdown",
   "metadata": {},
   "source": [
    "Resources\n",
    "\n",
    "- http://learnpython.org\n",
    "\n",
    "- http://www.diveintopython3.net/\n",
    "\n",
    "- http://www.pythontutor.com"
   ]
  },
  {
   "cell_type": "code",
<<<<<<< HEAD
   "execution_count": null,
   "metadata": {
    "collapsed": true
   },
   "outputs": [],
   "source": []
  },
  {
   "cell_type": "code",
   "execution_count": null,
   "metadata": {
    "collapsed": true
   },
   "outputs": [],
   "source": []
  },
  {
   "cell_type": "code",
   "execution_count": null,
   "metadata": {
    "collapsed": true
   },
   "outputs": [],
   "source": []
  },
  {
   "cell_type": "markdown",
   "metadata": {},
   "source": [
    "### Strings\n",
    "---"
=======
    "height.real"
>>>>>>> Upstream/master:Python/Beginner/unit-01-datatypes-reference.ipynb
   ]
  },
  {
   "cell_type": "code",
<<<<<<< HEAD:Python/Beginner/week-01-unit-01-datatypes.ipynb
   "execution_count": 86,
=======
   "execution_count": 83,
>>>>>>> upstream/master
=======
   "execution_count": 188,
>>>>>>> Upstream/master:Python/Beginner/unit-01-datatypes-reference.ipynb
   "metadata": {
    "collapsed": false
   },
   "outputs": [
    {
     "data": {
      "text/plain": [
<<<<<<< HEAD:Python/Beginner/week-01-unit-01-datatypes.ipynb
       "['__add__',\n",
       " '__class__',\n",
       " '__contains__',\n",
       " '__delattr__',\n",
       " '__dir__',\n",
       " '__doc__',\n",
       " '__eq__',\n",
       " '__format__',\n",
       " '__ge__',\n",
       " '__getattribute__',\n",
       " '__getitem__',\n",
       " '__getnewargs__',\n",
       " '__gt__',\n",
       " '__hash__',\n",
       " '__init__',\n",
       " '__iter__',\n",
       " '__le__',\n",
       " '__len__',\n",
       " '__lt__',\n",
       " '__mod__',\n",
       " '__mul__',\n",
       " '__ne__',\n",
       " '__new__',\n",
       " '__reduce__',\n",
       " '__reduce_ex__',\n",
       " '__repr__',\n",
       " '__rmod__',\n",
       " '__rmul__',\n",
       " '__setattr__',\n",
       " '__sizeof__',\n",
       " '__str__',\n",
       " '__subclasshook__',\n",
       " 'capitalize',\n",
       " 'casefold',\n",
       " 'center',\n",
       " 'count',\n",
       " 'encode',\n",
       " 'endswith',\n",
       " 'expandtabs',\n",
       " 'find',\n",
       " 'format',\n",
       " 'format_map',\n",
       " 'index',\n",
       " 'isalnum',\n",
       " 'isalpha',\n",
       " 'isdecimal',\n",
       " 'isdigit',\n",
       " 'isidentifier',\n",
       " 'islower',\n",
       " 'isnumeric',\n",
       " 'isprintable',\n",
       " 'isspace',\n",
       " 'istitle',\n",
       " 'isupper',\n",
       " 'join',\n",
       " 'ljust',\n",
       " 'lower',\n",
       " 'lstrip',\n",
       " 'maketrans',\n",
       " 'partition',\n",
       " 'replace',\n",
       " 'rfind',\n",
       " 'rindex',\n",
       " 'rjust',\n",
       " 'rpartition',\n",
       " 'rsplit',\n",
       " 'rstrip',\n",
       " 'split',\n",
       " 'splitlines',\n",
       " 'startswith',\n",
       " 'strip',\n",
       " 'swapcase',\n",
       " 'title',\n",
       " 'translate',\n",
       " 'upper',\n",
       " 'zfill']"
      ]
     },
<<<<<<< HEAD
     "execution_count": 86,
=======
     "execution_count": 83,
>>>>>>> upstream/master
=======
       "0"
      ]
     },
     "execution_count": 188,
>>>>>>> Upstream/master:Python/Beginner/unit-01-datatypes-reference.ipynb
     "metadata": {},
     "output_type": "execute_result"
    }
   ],
   "source": [
<<<<<<< HEAD:Python/Beginner/week-01-unit-01-datatypes.ipynb
    "dir('')"
=======
    "height.imag"
   ]
  },
  {
   "cell_type": "markdown",
   "metadata": {},
   "source": [
    "*Above are attributes for integer i.e __height__*"
   ]
  },
  {
   "cell_type": "code",
   "execution_count": 189,
   "metadata": {
    "collapsed": true
   },
   "outputs": [],
   "source": [
    "cmplx = 7 + 5j"
>>>>>>> Upstream/master:Python/Beginner/unit-01-datatypes-reference.ipynb
   ]
  },
  {
   "cell_type": "code",
<<<<<<< HEAD:Python/Beginner/week-01-unit-01-datatypes.ipynb
<<<<<<< HEAD
   "execution_count": 87,
=======
   "execution_count": 84,
>>>>>>> upstream/master
=======
   "execution_count": 190,
>>>>>>> Upstream/master:Python/Beginner/unit-01-datatypes-reference.ipynb
   "metadata": {
    "collapsed": false
   },
   "outputs": [
    {
     "data": {
      "text/plain": [
       "7.0"
      ]
     },
     "execution_count": 190,
     "metadata": {},
     "output_type": "execute_result"
    }
   ],
   "source": [
    "cmplx.real"
   ]
  },
  {
   "cell_type": "code",
<<<<<<< HEAD:Python/Beginner/week-01-unit-01-datatypes.ipynb
<<<<<<< HEAD
   "execution_count": 88,
=======
   "execution_count": 85,
>>>>>>> upstream/master
=======
   "execution_count": 191,
>>>>>>> Upstream/master:Python/Beginner/unit-01-datatypes-reference.ipynb
   "metadata": {
    "collapsed": false
   },
   "outputs": [
    {
     "data": {
      "text/plain": [
       "5.0"
      ]
     },
<<<<<<< HEAD:Python/Beginner/week-01-unit-01-datatypes.ipynb
<<<<<<< HEAD
     "execution_count": 88,
=======
     "execution_count": 85,
>>>>>>> upstream/master
=======
     "execution_count": 191,
>>>>>>> Upstream/master:Python/Beginner/unit-01-datatypes-reference.ipynb
     "metadata": {},
     "output_type": "execute_result"
    }
   ],
   "source": [
    "cmplx.imag"
   ]
  },
  {
   "cell_type": "code",
<<<<<<< HEAD:Python/Beginner/week-01-unit-01-datatypes.ipynb
<<<<<<< HEAD
   "execution_count": 89,
=======
   "execution_count": 86,
>>>>>>> upstream/master
=======
   "execution_count": 192,
>>>>>>> Upstream/master:Python/Beginner/unit-01-datatypes-reference.ipynb
   "metadata": {
    "collapsed": false
   },
   "outputs": [
    {
<<<<<<< HEAD
     "name": "stdout",
     "output_type": "stream",
     "text": [
      "Help on built-in function swapcase:\n",
      "\n",
      "swapcase(...) method of builtins.str instance\n",
      "    S.swapcase() -> str\n",
      "    \n",
      "    Return a copy of S with uppercase characters converted to lowercase\n",
      "    and vice versa.\n",
      "\n"
     ]
=======
     "data": {
      "text/plain": [
       "(7-5j)"
      ]
     },
     "execution_count": 192,
     "metadata": {},
     "output_type": "execute_result"
>>>>>>> upstream/master
    }
   ],
   "source": [
    "cmplx.conjugate()"
   ]
  },
  {
   "cell_type": "markdown",
   "metadata": {},
   "source": [
    "*conjugate is __method__ associated with a complex number*\n",
    "\n",
    "*__Note:__ Remember the __dot__ it follows.*"
   ]
  },
  {
   "cell_type": "code",
<<<<<<< HEAD:Python/Beginner/week-01-unit-01-datatypes.ipynb
<<<<<<< HEAD
   "execution_count": 90,
=======
   "execution_count": 87,
>>>>>>> upstream/master
   "metadata": {
    "collapsed": false
   },
   "outputs": [
    {
<<<<<<< HEAD
     "data": {
      "text/plain": [
       "'aBcD'"
      ]
     },
     "execution_count": 90,
     "metadata": {},
     "output_type": "execute_result"
    }
   ],
   "source": [
    "'AbCd'.swapcase()"
   ]
  },
  {
   "cell_type": "markdown",
   "metadata": {},
=======
     "name": "stdout",
     "output_type": "stream",
     "text": [
      "Help on built-in function swapcase:\n",
      "\n",
      "swapcase(...) method of builtins.str instance\n",
      "    S.swapcase() -> str\n",
      "    \n",
      "    Return a copy of S with uppercase characters converted to lowercase\n",
      "    and vice versa.\n",
      "\n"
     ]
    }
   ],
>>>>>>> upstream/master
=======
   "execution_count": 193,
   "metadata": {
    "collapsed": false
   },
   "outputs": [],
>>>>>>> Upstream/master:Python/Beginner/unit-01-datatypes-reference.ipynb
   "source": [
    "ae = 'é'.encode()"
   ]
  },
  {
   "cell_type": "code",
<<<<<<< HEAD:Python/Beginner/week-01-unit-01-datatypes.ipynb
<<<<<<< HEAD
   "execution_count": 91,
=======
   "execution_count": 88,
>>>>>>> upstream/master
=======
   "execution_count": 194,
>>>>>>> Upstream/master:Python/Beginner/unit-01-datatypes-reference.ipynb
   "metadata": {
    "collapsed": false
   },
   "outputs": [
    {
     "data": {
      "text/plain": [
<<<<<<< HEAD:Python/Beginner/week-01-unit-01-datatypes.ipynb
<<<<<<< HEAD
       "16"
      ]
     },
     "execution_count": 91,
=======
       "'aBcD'"
      ]
     },
     "execution_count": 88,
>>>>>>> upstream/master
=======
       "b'\\xc3\\xa9'"
      ]
     },
     "execution_count": 194,
>>>>>>> Upstream/master:Python/Beginner/unit-01-datatypes-reference.ipynb
     "metadata": {},
     "output_type": "execute_result"
    }
   ],
<<<<<<< HEAD
   "source": [
    "len('This is a string')"
   ]
  },
  {
   "cell_type": "markdown",
   "metadata": {},
=======
>>>>>>> upstream/master
   "source": [
    "ae"
   ]
  },
  {
   "cell_type": "markdown",
   "metadata": {},
   "source": [
    "*__encode()__ is methods associated with a string, which converted string to a byte.*"
   ]
  },
  {
   "cell_type": "code",
   "execution_count": 86,
   "metadata": {
    "collapsed": false
   },
   "outputs": [
    {
     "data": {
      "text/plain": [
       "'abc'"
      ]
     },
     "execution_count": 86,
     "metadata": {},
     "output_type": "execute_result"
    }
   ],
   "source": [
    "'Abc'.lower()"
   ]
  },
  {
   "cell_type": "code",
   "execution_count": 87,
   "metadata": {
    "collapsed": false
   },
   "outputs": [
    {
     "data": {
      "text/plain": [
       "'abcdfr'"
      ]
     },
     "execution_count": 87,
     "metadata": {},
     "output_type": "execute_result"
    }
   ],
   "source": [
    "'ABCDFR'.lower()"
   ]
  },
  {
   "cell_type": "code",
   "execution_count": 89,
   "metadata": {
    "collapsed": false
   },
   "outputs": [
    {
     "data": {
      "text/plain": [
       "'aBcD'"
      ]
     },
     "execution_count": 89,
     "metadata": {},
     "output_type": "execute_result"
    }
   ],
   "source": [
    "'AbCd'.swapcase()"
   ]
  },
  {
   "cell_type": "code",
   "execution_count": 91,
   "metadata": {
    "collapsed": false
   },
   "outputs": [
    {
     "data": {
      "text/plain": [
       "'Apple'"
      ]
     },
     "execution_count": 91,
     "metadata": {},
     "output_type": "execute_result"
    }
   ],
   "source": [
    "'apple'.capitalize()"
   ]
  },
  {
   "cell_type": "markdown",
   "metadata": {},
   "source": [
    "*Above are some string methods. which does what method name suggests*"
   ]
  },
  {
   "cell_type": "code",
   "execution_count": 93,
   "metadata": {
    "collapsed": false
   },
   "outputs": [
    {
     "data": {
      "text/plain": [
       "False"
      ]
     },
     "execution_count": 93,
     "metadata": {},
     "output_type": "execute_result"
    }
   ],
   "source": [
    "'abc'.isdigit()"
   ]
  },
  {
   "cell_type": "code",
<<<<<<< HEAD
   "execution_count": 93,
=======
   "execution_count": 94,
>>>>>>> upstream/master
   "metadata": {
    "collapsed": false
   },
   "outputs": [
    {
     "data": {
      "text/plain": [
<<<<<<< HEAD:Python/Beginner/week-01-unit-01-datatypes.ipynb
<<<<<<< HEAD
       "'K'"
      ]
     },
     "execution_count": 93,
=======
       "False"
=======
       "True"
>>>>>>> Upstream/master:Python/Beginner/unit-01-datatypes-reference.ipynb
      ]
     },
     "execution_count": 94,
>>>>>>> upstream/master
     "metadata": {},
     "output_type": "execute_result"
    }
   ],
   "source": [
<<<<<<< HEAD:Python/Beginner/week-01-unit-01-datatypes.ipynb
    "'a29'.isdigit()"
   ]
  },
  {
   "cell_type": "code",
   "execution_count": 94,
   "metadata": {
    "collapsed": true
   },
<<<<<<< HEAD
   "outputs": [
    {
     "data": {
      "text/plain": [
       "'a'"
      ]
     },
     "execution_count": 94,
     "metadata": {},
     "output_type": "execute_result"
    }
   ],
   "source": [
    "# get from index 1\n",
    "address[1]"
   ]
=======
   "outputs": [],
   "source": []
>>>>>>> upstream/master
  },
  {
   "cell_type": "code",
   "execution_count": 95,
   "metadata": {
    "collapsed": true
   },
<<<<<<< HEAD
   "outputs": [
    {
     "data": {
      "text/plain": [
       "'B'"
      ]
     },
     "execution_count": 95,
     "metadata": {},
     "output_type": "execute_result"
    }
   ],
   "source": [
    "# get from index 13\n",
    "address[13]"
   ]
=======
   "outputs": [],
   "source": []
>>>>>>> upstream/master
  },
  {
   "cell_type": "markdown",
   "metadata": {},
   "source": [
    "length of string"
=======
    "'123'.isdigit()"
>>>>>>> Upstream/master:Python/Beginner/unit-01-datatypes-reference.ipynb
   ]
  },
  {
   "cell_type": "code",
<<<<<<< HEAD
   "execution_count": 96,
=======
   "execution_count": 95,
>>>>>>> upstream/master
   "metadata": {
    "collapsed": false
   },
   "outputs": [
    {
     "data": {
      "text/plain": [
<<<<<<< HEAD:Python/Beginner/week-01-unit-01-datatypes.ipynb
<<<<<<< HEAD
       "'l'"
      ]
     },
     "execution_count": 96,
=======
       "16"
=======
       "False"
>>>>>>> Upstream/master:Python/Beginner/unit-01-datatypes-reference.ipynb
      ]
     },
     "execution_count": 95,
>>>>>>> upstream/master
     "metadata": {},
     "output_type": "execute_result"
    }
   ],
   "source": [
    "'a29'.isdigit()"
   ]
  },
  {
   "cell_type": "markdown",
   "metadata": {},
   "source": [
    "*Above three string methods checks for certain condition. in this case, if given string is a digit.*"
   ]
  },
  {
<<<<<<< HEAD:Python/Beginner/week-01-unit-01-datatypes.ipynb
   "cell_type": "code",
   "execution_count": 97,
   "metadata": {
    "collapsed": true
   },
<<<<<<< HEAD
   "outputs": [
    {
     "data": {
      "text/plain": [
       "','"
      ]
     },
     "execution_count": 97,
     "metadata": {},
     "output_type": "execute_result"
    }
   ],
   "source": [
    "# get 7th item from last\n",
    "address[-7]"
   ]
=======
   "outputs": [],
   "source": []
>>>>>>> upstream/master
  },
  {
   "cell_type": "code",
   "execution_count": 98,
   "metadata": {
    "collapsed": true
   },
<<<<<<< HEAD
   "outputs": [
    {
     "data": {
      "text/plain": [
       "'Kathmandu-4, Bagmati, Nepal'"
      ]
     },
     "execution_count": 98,
     "metadata": {},
     "output_type": "execute_result"
    }
   ],
=======
   "outputs": [],
   "source": []
  },
  {
=======
>>>>>>> Upstream/master:Python/Beginner/unit-01-datatypes-reference.ipynb
   "cell_type": "markdown",
   "metadata": {},
>>>>>>> upstream/master
   "source": [
<<<<<<< HEAD:Python/Beginner/week-01-unit-01-datatypes.ipynb
    "### String slicing"
   ]
  },
  {
   "cell_type": "code",
<<<<<<< HEAD
   "execution_count": 99,
=======
   "execution_count": 96,
>>>>>>> upstream/master
   "metadata": {
    "collapsed": true
   },
   "outputs": [
    {
     "data": {
      "text/plain": [
       "'thmandu-4, Bagmati, Nepal'"
      ]
     },
     "execution_count": 99,
     "metadata": {},
     "output_type": "execute_result"
    }
   ],
   "source": [
    "address = 'Kathmandu-4, Bagmati, Nepal'"
   ]
  },
  {
   "cell_type": "code",
<<<<<<< HEAD
   "execution_count": 100,
=======
   "execution_count": 97,
>>>>>>> upstream/master
   "metadata": {
    "collapsed": false
   },
   "outputs": [
    {
     "data": {
      "text/plain": [
<<<<<<< HEAD
       "'Kathm'"
      ]
     },
     "execution_count": 100,
=======
       "27"
      ]
     },
     "execution_count": 97,
>>>>>>> upstream/master
     "metadata": {},
     "output_type": "execute_result"
    }
   ],
=======
    "## Mathematical Operations\n",
    "---"
   ]
  },
  {
   "cell_type": "markdown",
   "metadata": {},
>>>>>>> Upstream/master:Python/Beginner/unit-01-datatypes-reference.ipynb
   "source": [
    "### Addition ( + operator )\n",
    "---"
   ]
  },
  {
   "cell_type": "markdown",
   "metadata": {},
   "source": [
    "$int + int = int$"
   ]
  },
  {
   "cell_type": "code",
<<<<<<< HEAD:Python/Beginner/week-01-unit-01-datatypes.ipynb
<<<<<<< HEAD
   "execution_count": 101,
=======
   "execution_count": 98,
>>>>>>> upstream/master
=======
   "execution_count": 195,
>>>>>>> Upstream/master:Python/Beginner/unit-01-datatypes-reference.ipynb
   "metadata": {
    "collapsed": false
   },
   "outputs": [
    {
     "data": {
      "text/plain": [
<<<<<<< HEAD:Python/Beginner/week-01-unit-01-datatypes.ipynb
<<<<<<< HEAD
       "'hman'"
      ]
     },
     "execution_count": 101,
=======
       "'K'"
      ]
     },
     "execution_count": 98,
>>>>>>> upstream/master
=======
       "3"
      ]
     },
     "execution_count": 195,
>>>>>>> Upstream/master:Python/Beginner/unit-01-datatypes-reference.ipynb
     "metadata": {},
     "output_type": "execute_result"
    }
   ],
   "source": [
    "1 + 2"
   ]
  },
  {
   "cell_type": "markdown",
   "metadata": {},
   "source": [
    "$float + int = float + float(int) = float$"
   ]
  },
  {
   "cell_type": "code",
<<<<<<< HEAD:Python/Beginner/week-01-unit-01-datatypes.ipynb
<<<<<<< HEAD
   "execution_count": 102,
=======
   "execution_count": 100,
>>>>>>> upstream/master
=======
   "execution_count": 196,
>>>>>>> Upstream/master:Python/Beginner/unit-01-datatypes-reference.ipynb
   "metadata": {
    "collapsed": false
   },
   "outputs": [
    {
     "data": {
      "text/plain": [
<<<<<<< HEAD:Python/Beginner/week-01-unit-01-datatypes.ipynb
<<<<<<< HEAD
       "'hmandu-4, Ba'"
=======
       "'B'"
=======
       "3.5"
>>>>>>> Upstream/master:Python/Beginner/unit-01-datatypes-reference.ipynb
      ]
     },
     "execution_count": 196,
     "metadata": {},
     "output_type": "execute_result"
    }
   ],
   "source": [
    "1.5 + 2"
   ]
  },
  {
   "cell_type": "markdown",
   "metadata": {},
   "source": [
    "$int + bool = int + int(bool) = int$"
   ]
  },
  {
   "cell_type": "code",
   "execution_count": 197,
   "metadata": {
    "collapsed": false
   },
   "outputs": [
    {
     "data": {
      "text/plain": [
       "2"
      ]
     },
     "execution_count": 197,
     "metadata": {},
     "output_type": "execute_result"
    }
   ],
   "source": [
    "1 + True"
   ]
  },
  {
   "cell_type": "markdown",
   "metadata": {},
   "source": [
    "$float + bool = float + float(bool) = float$"
   ]
  },
  {
   "cell_type": "code",
   "execution_count": 61,
   "metadata": {
    "collapsed": false
   },
   "outputs": [
    {
     "data": {
      "text/plain": [
<<<<<<< HEAD:Python/Beginner/week-01-unit-01-datatypes.ipynb
       "','"
>>>>>>> upstream/master
=======
       "2.5"
>>>>>>> Upstream/master:Python/Beginner/unit-01-datatypes-reference.ipynb
      ]
     },
     "execution_count": 61,
     "metadata": {},
     "output_type": "execute_result"
    }
   ],
<<<<<<< HEAD
=======
   "source": [
    "1.5 + True"
   ]
  },
  {
   "cell_type": "code",
   "execution_count": 62,
   "metadata": {
    "collapsed": false
   },
   "outputs": [
    {
     "ename": "TypeError",
     "evalue": "unsupported operand type(s) for +: 'int' and 'str'",
     "output_type": "error",
     "traceback": [
      "\u001b[0;31m---------------------------------------------------------------------------\u001b[0m",
      "\u001b[0;31mTypeError\u001b[0m                                 Traceback (most recent call last)",
      "\u001b[0;32m<ipython-input-62-351862647d74>\u001b[0m in \u001b[0;36m<module>\u001b[0;34m()\u001b[0m\n\u001b[1;32m      1\u001b[0m \u001b[0;31m# add int with string\u001b[0m\u001b[0;34m\u001b[0m\u001b[0;34m\u001b[0m\u001b[0m\n\u001b[0;32m----> 2\u001b[0;31m \u001b[0;36m1\u001b[0m \u001b[0;34m+\u001b[0m \u001b[0;34m'2'\u001b[0m\u001b[0;34m\u001b[0m\u001b[0m\n\u001b[0m",
      "\u001b[0;31mTypeError\u001b[0m: unsupported operand type(s) for +: 'int' and 'str'"
     ]
    }
   ],
   "source": [
    "1 + '2'"
   ]
  },
  {
   "cell_type": "code",
   "execution_count": 198,
   "metadata": {
    "collapsed": false
   },
   "outputs": [
    {
     "data": {
      "text/plain": [
       "3"
      ]
     },
     "execution_count": 198,
     "metadata": {},
     "output_type": "execute_result"
    }
   ],
   "source": [
    "1 + int('2')"
   ]
  },
  {
   "cell_type": "markdown",
   "metadata": {},
   "source": [
    "*We need to explicity change a string to integer ourselves, in this case.*"
   ]
  },
  {
   "cell_type": "code",
   "execution_count": 199,
   "metadata": {
    "collapsed": false
   },
   "outputs": [
    {
     "data": {
      "text/plain": [
       "'abc'"
      ]
     },
     "execution_count": 199,
     "metadata": {},
     "output_type": "execute_result"
    }
   ],
   "source": [
    "'a' + 'bc'"
   ]
  },
  {
   "cell_type": "markdown",
   "metadata": {},
   "source": [
    "*This is concatenation ie joining of two strings together.*"
   ]
  },
  {
   "cell_type": "code",
   "execution_count": 65,
   "metadata": {
    "collapsed": false
   },
   "outputs": [
    {
     "data": {
      "text/plain": [
       "(2.5+4j)"
      ]
     },
     "execution_count": 65,
     "metadata": {},
     "output_type": "execute_result"
    }
   ],
   "source": [
    "1.5 + (1 + 4j)"
   ]
  },
  {
   "cell_type": "code",
   "execution_count": 66,
   "metadata": {
    "collapsed": false
   },
   "outputs": [
    {
     "data": {
      "text/plain": [
       "(4+7j)"
      ]
     },
     "execution_count": 66,
     "metadata": {},
     "output_type": "execute_result"
    }
   ],
   "source": [
    "(1 + 2j) + (3 + 5j)"
   ]
  },
  {
   "cell_type": "code",
   "execution_count": 67,
   "metadata": {
    "collapsed": false
   },
   "outputs": [
    {
     "data": {
      "text/plain": [
       "b'abc'"
      ]
     },
     "execution_count": 67,
     "metadata": {},
     "output_type": "execute_result"
    }
   ],
   "source": [
    "b'a' + b'bc'"
   ]
  },
  {
   "cell_type": "markdown",
   "metadata": {},
   "source": [
    "### Substraction ( - ), Multiplication ( * ), Division ( / or // )\n",
    "---"
   ]
  },
  {
   "cell_type": "code",
   "execution_count": 68,
   "metadata": {
    "collapsed": false
   },
   "outputs": [
    {
     "data": {
      "text/plain": [
       "1.5"
      ]
     },
     "execution_count": 68,
     "metadata": {},
     "output_type": "execute_result"
    }
   ],
   "source": [
    "# float division aka real division\n",
    "3/2"
   ]
  },
  {
   "cell_type": "code",
   "execution_count": 69,
   "metadata": {
    "collapsed": false
   },
   "outputs": [
    {
     "data": {
      "text/plain": [
       "1"
      ]
     },
     "execution_count": 69,
     "metadata": {},
     "output_type": "execute_result"
    }
   ],
   "source": [
    "# integer division\n",
    "3//2"
   ]
  },
  {
   "cell_type": "code",
   "execution_count": 70,
   "metadata": {
    "collapsed": false
   },
   "outputs": [
    {
     "data": {
      "text/plain": [
       "6"
      ]
     },
     "execution_count": 70,
     "metadata": {},
     "output_type": "execute_result"
    }
   ],
   "source": [
    "2 * 3"
   ]
  },
  {
   "cell_type": "code",
   "execution_count": 71,
   "metadata": {
    "collapsed": false
   },
   "outputs": [
    {
     "data": {
      "text/plain": [
       "'aaa'"
      ]
     },
     "execution_count": 71,
     "metadata": {},
     "output_type": "execute_result"
    }
   ],
   "source": [
    "# repitation\n",
    "'a' * 3"
   ]
  },
  {
   "cell_type": "code",
   "execution_count": null,
   "metadata": {
    "collapsed": true
   },
   "outputs": [],
   "source": []
  },
  {
   "cell_type": "code",
   "execution_count": null,
   "metadata": {
    "collapsed": true
   },
   "outputs": [],
   "source": []
  },
  {
   "cell_type": "markdown",
   "metadata": {},
   "source": [
    "**H/W try all the combinations**"
   ]
  },
  {
   "cell_type": "code",
   "execution_count": null,
   "metadata": {
    "collapsed": true
   },
   "outputs": [],
   "source": []
  },
  {
   "cell_type": "code",
   "execution_count": null,
   "metadata": {
    "collapsed": true
   },
   "outputs": [],
   "source": []
  },
  {
   "cell_type": "markdown",
   "metadata": {},
   "source": [
    "### Power ( ** )\n",
    "---"
   ]
  },
  {
   "cell_type": "markdown",
   "metadata": {},
   "source": [
    "$2^3$"
   ]
  },
  {
   "cell_type": "code",
   "execution_count": 72,
   "metadata": {
    "collapsed": false
   },
   "outputs": [
    {
     "data": {
      "text/plain": [
       "8"
      ]
     },
     "execution_count": 72,
     "metadata": {},
     "output_type": "execute_result"
    }
   ],
   "source": [
    "2 ** 3"
   ]
  },
  {
   "cell_type": "markdown",
   "metadata": {},
   "source": [
    "### String slicing"
   ]
  },
  {
   "cell_type": "code",
   "execution_count": 97,
   "metadata": {
    "collapsed": true
   },
   "outputs": [],
   "source": [
    "address = 'Kathmandu-4, Bagmati, Nepal'"
   ]
  },
  {
   "cell_type": "code",
   "execution_count": 98,
   "metadata": {
    "collapsed": false
   },
   "outputs": [
    {
     "data": {
      "text/plain": [
       "27"
      ]
     },
     "execution_count": 98,
     "metadata": {},
     "output_type": "execute_result"
    }
   ],
   "source": [
    "len(address)"
   ]
  },
  {
   "cell_type": "markdown",
   "metadata": {},
   "source": [
    "\n",
    "string indexes\n",
    "\n",
    "```\n",
    "  K a t h m a n d u - 4 ,   B a g m a t i ,   N e p a l\n",
    "  0 1 2 3 4 5 6\n",
    "                                                   -2 -1\n",
    "```\n",
    "  \n"
   ]
  },
  {
   "cell_type": "code",
   "execution_count": 99,
   "metadata": {
    "collapsed": false
   },
   "outputs": [
    {
     "data": {
      "text/plain": [
       "'K'"
      ]
     },
     "execution_count": 99,
     "metadata": {},
     "output_type": "execute_result"
    }
   ],
   "source": [
    "address[0]"
   ]
  },
  {
   "cell_type": "code",
   "execution_count": 100,
   "metadata": {
    "collapsed": false
   },
   "outputs": [
    {
     "data": {
      "text/plain": [
       "'a'"
      ]
     },
     "execution_count": 100,
     "metadata": {},
     "output_type": "execute_result"
    }
   ],
   "source": [
    "# get from index 1\n",
    "address[1]"
   ]
  },
  {
   "cell_type": "code",
   "execution_count": 101,
   "metadata": {
    "collapsed": false
   },
   "outputs": [
    {
     "data": {
      "text/plain": [
       "'B'"
      ]
     },
     "execution_count": 101,
     "metadata": {},
     "output_type": "execute_result"
    }
   ],
   "source": [
    "# get from index 13\n",
    "address[13]"
   ]
  },
  {
   "cell_type": "markdown",
   "metadata": {},
   "source": [
    "negative index is counted backward, -1 is last character in string"
   ]
  },
  {
   "cell_type": "code",
   "execution_count": 102,
   "metadata": {
    "collapsed": false
   },
   "outputs": [
    {
     "data": {
      "text/plain": [
       "'l'"
      ]
     },
     "execution_count": 102,
     "metadata": {},
     "output_type": "execute_result"
    }
   ],
   "source": [
    "# get last item\n",
    "address[-1]"
   ]
  },
  {
   "cell_type": "code",
   "execution_count": 103,
   "metadata": {
    "collapsed": false
   },
   "outputs": [
    {
     "data": {
      "text/plain": [
       "','"
      ]
     },
     "execution_count": 103,
     "metadata": {},
     "output_type": "execute_result"
    }
   ],
   "source": [
    "# get 7th item from last\n",
    "address[-7]"
   ]
  },
  {
   "cell_type": "code",
   "execution_count": 104,
   "metadata": {
    "collapsed": false
   },
   "outputs": [
    {
     "data": {
      "text/plain": [
       "'Kathmandu-4, Bagmati, Nepal'"
      ]
     },
     "execution_count": 104,
     "metadata": {},
     "output_type": "execute_result"
    }
   ],
   "source": [
    "# get all from 0th item to last item\n",
    "address[:]"
   ]
  },
  {
   "cell_type": "code",
   "execution_count": 105,
   "metadata": {
    "collapsed": false
   },
   "outputs": [
    {
     "data": {
      "text/plain": [
       "'thmandu-4, Bagmati, Nepal'"
      ]
     },
     "execution_count": 105,
     "metadata": {},
     "output_type": "execute_result"
    }
   ],
   "source": [
    "# get from index 2 to last item\n",
    "address[2:]"
   ]
  },
  {
   "cell_type": "code",
   "execution_count": 106,
   "metadata": {
    "collapsed": false
   },
   "outputs": [
    {
     "data": {
      "text/plain": [
       "'Kathm'"
      ]
     },
     "execution_count": 106,
     "metadata": {},
     "output_type": "execute_result"
    }
   ],
   "source": [
    "# get from index 0 to index 4 [ 5 is excluded ]\n",
    "# can be called as 0 upto 5\n",
    "address[:5]"
   ]
  },
  {
   "cell_type": "markdown",
   "metadata": {},
   "source": [
    "*start of slice is inclusive and end of slice is exclusive*"
   ]
  },
  {
   "cell_type": "code",
   "execution_count": 107,
   "metadata": {
    "collapsed": false
   },
   "outputs": [
    {
     "data": {
      "text/plain": [
       "'hman'"
      ]
     },
     "execution_count": 107,
     "metadata": {},
     "output_type": "execute_result"
    }
   ],
>>>>>>> upstream/master
   "source": [
    "address[3:7]"
   ]
  },
  {
   "cell_type": "markdown",
   "metadata": {},
   "source": [
    "*step defines which item to get after getting first item*"
   ]
  },
  {
   "cell_type": "code",
<<<<<<< HEAD:Python/Beginner/week-01-unit-01-datatypes.ipynb
<<<<<<< HEAD
   "execution_count": 103,
=======
   "execution_count": 127,
>>>>>>> upstream/master
=======
   "execution_count": 108,
>>>>>>> Upstream/master:Python/Beginner/unit-01-datatypes-reference.ipynb
   "metadata": {
    "collapsed": false
   },
   "outputs": [
    {
     "data": {
      "text/plain": [
<<<<<<< HEAD:Python/Beginner/week-01-unit-01-datatypes.ipynb
<<<<<<< HEAD
       "'hmandu-4, Ba'"
      ]
     },
     "execution_count": 103,
=======
       "True"
      ]
     },
     "execution_count": 127,
>>>>>>> upstream/master
=======
       "'hmandu-4, Ba'"
      ]
     },
     "execution_count": 108,
>>>>>>> Upstream/master:Python/Beginner/unit-01-datatypes-reference.ipynb
     "metadata": {},
     "output_type": "execute_result"
    }
   ],
   "source": [
    "address[3:15]"
   ]
  },
  {
   "cell_type": "code",
   "execution_count": 109,
   "metadata": {
    "collapsed": false
   },
   "outputs": [
    {
     "data": {
      "text/plain": [
       "'hmandu-4, Ba'"
      ]
     },
     "execution_count": 109,
     "metadata": {},
     "output_type": "execute_result"
    }
   ],
   "source": [
    "address[3:15:1]"
   ]
  },
  {
   "cell_type": "markdown",
   "metadata": {},
   "source": [
    "*default value of step is 1*"
   ]
  },
  {
   "cell_type": "code",
<<<<<<< HEAD:Python/Beginner/week-01-unit-01-datatypes.ipynb
<<<<<<< HEAD
   "execution_count": 104,
=======
   "execution_count": 129,
>>>>>>> upstream/master
=======
   "execution_count": 110,
>>>>>>> Upstream/master:Python/Beginner/unit-01-datatypes-reference.ipynb
   "metadata": {
    "collapsed": false
   },
   "outputs": [
    {
     "data": {
      "text/plain": [
<<<<<<< HEAD:Python/Beginner/week-01-unit-01-datatypes.ipynb
<<<<<<< HEAD
       "'had-,B'"
      ]
     },
     "execution_count": 104,
=======
       "False"
      ]
     },
     "execution_count": 129,
>>>>>>> upstream/master
=======
       "'had-,B'"
      ]
     },
     "execution_count": 110,
>>>>>>> Upstream/master:Python/Beginner/unit-01-datatypes-reference.ipynb
     "metadata": {},
     "output_type": "execute_result"
    }
   ],
   "source": [
    "address[3:15:2]"
   ]
  },
  {
   "cell_type": "markdown",
   "metadata": {},
   "source": [
    "*empty end with step value is defined as*"
   ]
  },
  {
   "cell_type": "code",
   "execution_count": 111,
   "metadata": {
    "collapsed": false
   },
   "outputs": [
    {
     "data": {
      "text/plain": [
       "'had-,Bgai ea'"
      ]
     },
     "execution_count": 111,
     "metadata": {},
     "output_type": "execute_result"
    }
   ],
   "source": [
    "address[3::2]"
   ]
  },
  {
   "cell_type": "code",
<<<<<<< HEAD:Python/Beginner/week-01-unit-01-datatypes.ipynb
<<<<<<< HEAD
   "execution_count": 105,
=======
   "execution_count": 131,
>>>>>>> upstream/master
=======
   "execution_count": 112,
>>>>>>> Upstream/master:Python/Beginner/unit-01-datatypes-reference.ipynb
   "metadata": {
    "collapsed": false
   },
   "outputs": [
    {
     "data": {
      "text/plain": [
<<<<<<< HEAD:Python/Beginner/week-01-unit-01-datatypes.ipynb
<<<<<<< HEAD
       "'had-,Bgai ea'"
      ]
     },
     "execution_count": 105,
=======
       "True"
      ]
     },
     "execution_count": 131,
>>>>>>> upstream/master
=======
       "'Ktmnu4 amt,Npl'"
      ]
     },
     "execution_count": 112,
>>>>>>> Upstream/master:Python/Beginner/unit-01-datatypes-reference.ipynb
     "metadata": {},
     "output_type": "execute_result"
    }
   ],
   "source": [
    "address[::2]"
   ]
  },
  {
   "cell_type": "code",
<<<<<<< HEAD:Python/Beginner/week-01-unit-01-datatypes.ipynb
<<<<<<< HEAD
   "execution_count": 106,
=======
   "execution_count": 132,
>>>>>>> upstream/master
=======
   "execution_count": 113,
>>>>>>> Upstream/master:Python/Beginner/unit-01-datatypes-reference.ipynb
   "metadata": {
    "collapsed": false
   },
   "outputs": [
    {
     "data": {
      "text/plain": [
<<<<<<< HEAD:Python/Beginner/week-01-unit-01-datatypes.ipynb
<<<<<<< HEAD
       "''"
      ]
     },
     "execution_count": 106,
=======
       "True"
      ]
     },
     "execution_count": 132,
>>>>>>> upstream/master
=======
       "'Kathmandu-4, Bagmati, Nepal'"
      ]
     },
     "execution_count": 113,
>>>>>>> Upstream/master:Python/Beginner/unit-01-datatypes-reference.ipynb
     "metadata": {},
     "output_type": "execute_result"
    }
   ],
   "source": [
    "address"
   ]
  },
  {
   "cell_type": "code",
   "execution_count": 114,
   "metadata": {
    "collapsed": false
   },
   "outputs": [
    {
     "data": {
      "text/plain": [
       "''"
      ]
     },
     "execution_count": 114,
     "metadata": {},
     "output_type": "execute_result"
    }
   ],
   "source": [
    "# start as negative and end as positive value\n",
    "address[-3:7]"
   ]
  },
  {
   "cell_type": "markdown",
   "metadata": {},
   "source": [
    "*negative step moves window from right to left*"
   ]
  },
  {
   "cell_type": "code",
<<<<<<< HEAD:Python/Beginner/week-01-unit-01-datatypes.ipynb
<<<<<<< HEAD
   "execution_count": 108,
=======
   "execution_count": 134,
>>>>>>> upstream/master
=======
   "execution_count": 115,
>>>>>>> Upstream/master:Python/Beginner/unit-01-datatypes-reference.ipynb
   "metadata": {
    "collapsed": false
   },
   "outputs": [
    {
     "data": {
      "text/plain": [
<<<<<<< HEAD:Python/Beginner/week-01-unit-01-datatypes.ipynb
<<<<<<< HEAD
       "'peN ,itamgaB ,4-u'"
      ]
     },
     "execution_count": 108,
=======
       "False"
      ]
     },
     "execution_count": 134,
>>>>>>> upstream/master
=======
       "'peN ,itamgaB ,4-u'"
      ]
     },
     "execution_count": 115,
>>>>>>> Upstream/master:Python/Beginner/unit-01-datatypes-reference.ipynb
     "metadata": {},
     "output_type": "execute_result"
    }
   ],
   "source": [
    "address[-3:7:-1]"
   ]
  },
  {
   "cell_type": "code",
<<<<<<< HEAD:Python/Beginner/week-01-unit-01-datatypes.ipynb
<<<<<<< HEAD
   "execution_count": 107,
=======
   "execution_count": 135,
>>>>>>> upstream/master
=======
   "execution_count": 116,
>>>>>>> Upstream/master:Python/Beginner/unit-01-datatypes-reference.ipynb
   "metadata": {
    "collapsed": false
   },
   "outputs": [
    {
     "data": {
      "text/plain": [
<<<<<<< HEAD:Python/Beginner/week-01-unit-01-datatypes.ipynb
<<<<<<< HEAD
       "' Bagmati'"
      ]
     },
     "execution_count": 107,
=======
       "'1'"
      ]
     },
     "execution_count": 135,
>>>>>>> upstream/master
=======
       "' Bagmati'"
      ]
     },
     "execution_count": 116,
>>>>>>> Upstream/master:Python/Beginner/unit-01-datatypes-reference.ipynb
     "metadata": {},
     "output_type": "execute_result"
    }
   ],
   "source": [
    "address[-15:-7]"
   ]
  },
  {
   "cell_type": "code",
<<<<<<< HEAD:Python/Beginner/week-01-unit-01-datatypes.ipynb
<<<<<<< HEAD
   "execution_count": 109,
=======
   "execution_count": 136,
>>>>>>> upstream/master
=======
   "execution_count": 117,
>>>>>>> Upstream/master:Python/Beginner/unit-01-datatypes-reference.ipynb
   "metadata": {
    "collapsed": false
   },
   "outputs": [
    {
     "data": {
      "text/plain": [
<<<<<<< HEAD:Python/Beginner/week-01-unit-01-datatypes.ipynb
<<<<<<< HEAD
       "'lapeN ,itamgaB ,4-udnamhtaK'"
      ]
     },
     "execution_count": 109,
=======
       "'True'"
      ]
     },
     "execution_count": 136,
>>>>>>> upstream/master
=======
       "'lapeN ,itamgaB ,4-udnamhtaK'"
      ]
     },
     "execution_count": 117,
>>>>>>> Upstream/master:Python/Beginner/unit-01-datatypes-reference.ipynb
     "metadata": {},
     "output_type": "execute_result"
    }
   ],
   "source": [
    "address[::-1]"
   ]
  },
  {
   "cell_type": "code",
   "execution_count": null,
   "metadata": {
    "collapsed": true
   },
   "outputs": [],
   "source": []
  },
  {
   "cell_type": "markdown",
   "metadata": {},
   "source": [
    "#### String formatting"
   ]
  },
  {
   "cell_type": "code",
<<<<<<< HEAD:Python/Beginner/week-01-unit-01-datatypes.ipynb
<<<<<<< HEAD
   "execution_count": 110,
=======
   "execution_count": 118,
=======
   "execution_count": 134,
>>>>>>> Upstream/master:Python/Beginner/unit-01-datatypes-reference.ipynb
   "metadata": {
    "collapsed": false
   },
   "outputs": [
    {
     "data": {
      "text/plain": [
       "'His name is Hari and his age is 42'"
      ]
     },
     "execution_count": 134,
     "metadata": {},
     "output_type": "execute_result"
    }
   ],
   "source": [
    "'His name is Hari and his age is 42'"
   ]
  },
  {
   "cell_type": "code",
<<<<<<< HEAD:Python/Beginner/week-01-unit-01-datatypes.ipynb
   "execution_count": 119,
>>>>>>> upstream/master
=======
   "execution_count": 135,
>>>>>>> Upstream/master:Python/Beginner/unit-01-datatypes-reference.ipynb
   "metadata": {
    "collapsed": true
   },
   "outputs": [],
   "source": [
    "name = 'Hari'\n",
    "age = 42"
   ]
  },
  {
   "cell_type": "code",
<<<<<<< HEAD:Python/Beginner/week-01-unit-01-datatypes.ipynb
<<<<<<< HEAD
   "execution_count": 111,
=======
   "execution_count": 120,
>>>>>>> upstream/master
=======
   "execution_count": 136,
>>>>>>> Upstream/master:Python/Beginner/unit-01-datatypes-reference.ipynb
   "metadata": {
    "collapsed": false
   },
   "outputs": [
    {
     "data": {
      "text/plain": [
       "'His name is Hari and his age is 42'"
      ]
     },
<<<<<<< HEAD:Python/Beginner/week-01-unit-01-datatypes.ipynb
<<<<<<< HEAD
     "execution_count": 111,
=======
     "execution_count": 120,
>>>>>>> upstream/master
=======
     "execution_count": 136,
>>>>>>> Upstream/master:Python/Beginner/unit-01-datatypes-reference.ipynb
     "metadata": {},
     "output_type": "execute_result"
    }
   ],
   "source": [
    "'His name is ' + name + ' and his age is ' + str(age)"
   ]
  },
  {
   "cell_type": "markdown",
   "metadata": {},
   "source": [
    "*c printf style*"
   ]
  },
  {
   "cell_type": "code",
<<<<<<< HEAD:Python/Beginner/week-01-unit-01-datatypes.ipynb
<<<<<<< HEAD
   "execution_count": 113,
=======
   "execution_count": 138,
>>>>>>> upstream/master
=======
   "execution_count": 137,
>>>>>>> Upstream/master:Python/Beginner/unit-01-datatypes-reference.ipynb
   "metadata": {
    "collapsed": false
   },
   "outputs": [
    {
     "data": {
      "text/plain": [
<<<<<<< HEAD
       "'His name is Hari amd his age is 42'"
      ]
     },
     "execution_count": 113,
=======
       "'His name is Hari and his age is 42'"
      ]
     },
<<<<<<< HEAD:Python/Beginner/week-01-unit-01-datatypes.ipynb
     "execution_count": 138,
>>>>>>> upstream/master
=======
     "execution_count": 137,
>>>>>>> Upstream/master:Python/Beginner/unit-01-datatypes-reference.ipynb
     "metadata": {},
     "output_type": "execute_result"
    }
   ],
   "source": [
    "'His name is %s and his age is %d' % (name, age)"
   ]
  },
  {
   "cell_type": "markdown",
   "metadata": {},
   "source": [
    "*{} are placeholders where values get replaced*"
   ]
  },
  {
   "cell_type": "code",
<<<<<<< HEAD:Python/Beginner/week-01-unit-01-datatypes.ipynb
<<<<<<< HEAD
   "execution_count": 112,
=======
   "execution_count": 139,
>>>>>>> upstream/master
=======
   "execution_count": 138,
>>>>>>> Upstream/master:Python/Beginner/unit-01-datatypes-reference.ipynb
   "metadata": {
    "collapsed": false
   },
   "outputs": [
    {
     "data": {
      "text/plain": [
       "'His name is Hari amd his age is 42'"
      ]
     },
<<<<<<< HEAD:Python/Beginner/week-01-unit-01-datatypes.ipynb
<<<<<<< HEAD
     "execution_count": 112,
=======
     "execution_count": 139,
>>>>>>> upstream/master
=======
     "execution_count": 138,
>>>>>>> Upstream/master:Python/Beginner/unit-01-datatypes-reference.ipynb
     "metadata": {},
     "output_type": "execute_result"
    }
   ],
   "source": [
    "'His name is {} amd his age is {}'.format(name, age)"
   ]
  },
  {
   "cell_type": "markdown",
   "metadata": {},
   "source": [
    "*first argument goes to first {} and second goes to second {}*"
   ]
  },
  {
   "cell_type": "markdown",
   "metadata": {},
   "source": [
    "*Unless there order is defined by numbers*"
   ]
  },
  {
   "cell_type": "code",
<<<<<<< HEAD:Python/Beginner/week-01-unit-01-datatypes.ipynb
<<<<<<< HEAD
   "execution_count": 114,
=======
   "execution_count": 140,
>>>>>>> upstream/master
=======
   "execution_count": 139,
>>>>>>> Upstream/master:Python/Beginner/unit-01-datatypes-reference.ipynb
   "metadata": {
    "collapsed": false
   },
   "outputs": [
    {
     "data": {
      "text/plain": [
       "'His name is Hari amd his age is 42'"
      ]
     },
<<<<<<< HEAD:Python/Beginner/week-01-unit-01-datatypes.ipynb
<<<<<<< HEAD
     "execution_count": 114,
=======
     "execution_count": 140,
>>>>>>> upstream/master
=======
     "execution_count": 139,
>>>>>>> Upstream/master:Python/Beginner/unit-01-datatypes-reference.ipynb
     "metadata": {},
     "output_type": "execute_result"
    }
   ],
   "source": [
    "'His name is {1} amd his age is {0}'.format(age, name)"
   ]
  },
  {
   "cell_type": "markdown",
   "metadata": {},
   "source": [
    "*placeholder can be names as well*"
   ]
  },
  {
   "cell_type": "code",
<<<<<<< HEAD:Python/Beginner/week-01-unit-01-datatypes.ipynb
<<<<<<< HEAD
   "execution_count": 115,
=======
   "execution_count": 142,
>>>>>>> upstream/master
=======
   "execution_count": 140,
>>>>>>> Upstream/master:Python/Beginner/unit-01-datatypes-reference.ipynb
   "metadata": {
    "collapsed": false
   },
   "outputs": [
    {
     "data": {
      "text/plain": [
       "'His name is Hari amd his age is 43'"
      ]
     },
<<<<<<< HEAD:Python/Beginner/week-01-unit-01-datatypes.ipynb
<<<<<<< HEAD
     "execution_count": 115,
=======
     "execution_count": 142,
>>>>>>> upstream/master
=======
     "execution_count": 140,
>>>>>>> Upstream/master:Python/Beginner/unit-01-datatypes-reference.ipynb
     "metadata": {},
     "output_type": "execute_result"
    }
   ],
   "source": [
    "'His name is {name} amd his age is {age}'.format(age=43, \n",
    "                                                 name='Hari')"
   ]
  },
  {
   "cell_type": "code",
   "execution_count": 141,
   "metadata": {
    "collapsed": false
   },
   "outputs": [
    {
     "data": {
      "text/plain": [
       "'His name is Hari amd his age is 42'"
      ]
     },
     "execution_count": 141,
     "metadata": {},
     "output_type": "execute_result"
    }
   ],
   "source": [
    "'His name is {name} amd his age is {age}'.format(age=age, \n",
    "                                                 name=name)"
   ]
  },
  {
   "cell_type": "markdown",
   "metadata": {
    "collapsed": true
   },
   "source": [
    "_available in python 3.6_\n",
    "\n",
    "```python\n",
    "f'His name is {name} amd his age is {age}'\n",
    "```"
   ]
  },
  {
   "cell_type": "markdown",
   "metadata": {},
   "source": [
    "**H/W work on string slicing more**"
   ]
  },
  {
   "cell_type": "code",
   "execution_count": 8,
   "metadata": {
    "collapsed": false
   },
   "outputs": [
    {
     "data": {
      "text/plain": [
       "4"
      ]
     },
     "execution_count": 8,
     "metadata": {},
     "output_type": "execute_result"
    }
   ],
   "source": [
    "2 ** 2"
   ]
  },
  {
   "cell_type": "code",
   "execution_count": 6,
   "metadata": {
    "collapsed": false
   },
   "outputs": [
    {
     "data": {
      "text/plain": [
       "16"
      ]
     },
     "execution_count": 6,
     "metadata": {},
     "output_type": "execute_result"
    }
   ],
   "source": [
    "2 ** 4"
   ]
  },
  {
   "cell_type": "code",
   "execution_count": 9,
   "metadata": {
    "collapsed": false
   },
   "outputs": [
    {
     "data": {
      "text/plain": [
       "256"
      ]
     },
     "execution_count": 9,
     "metadata": {},
     "output_type": "execute_result"
    }
   ],
   "source": [
    "2 ** 8"
   ]
  },
  {
   "cell_type": "code",
   "execution_count": 10,
   "metadata": {
    "collapsed": false
   },
   "outputs": [
    {
     "data": {
      "text/plain": [
       "128"
      ]
     },
     "execution_count": 10,
     "metadata": {},
     "output_type": "execute_result"
    }
   ],
   "source": [
    "2 ** 7"
   ]
  },
  {
   "cell_type": "code",
   "execution_count": 11,
   "metadata": {
    "collapsed": false
   },
   "outputs": [
    {
     "data": {
      "text/plain": [
       "32768"
      ]
     },
     "execution_count": 11,
     "metadata": {},
     "output_type": "execute_result"
    }
   ],
   "source": [
    "2 ** 15"
   ]
  },
  {
   "cell_type": "markdown",
   "metadata": {},
   "source": [
    "Resources\n",
    "\n",
    "- http://learnpython.org\n",
    "\n",
    "- http://www.diveintopython3.net/\n",
    "\n",
    "- http://www.pythontutor.com"
   ]
  }
 ],
 "metadata": {
  "anaconda-cloud": {},
  "kernelspec": {
   "display_name": "Python [Root]",
   "language": "python",
   "name": "Python [Root]"
  },
  "language_info": {
   "codemirror_mode": {
    "name": "ipython",
    "version": 3
   },
   "file_extension": ".py",
   "mimetype": "text/x-python",
   "name": "python",
   "nbconvert_exporter": "python",
   "pygments_lexer": "ipython3",
   "version": "3.5.2"
  }
 },
 "nbformat": 4,
 "nbformat_minor": 0
}
